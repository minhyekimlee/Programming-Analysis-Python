{
 "cells": [
  {
   "cell_type": "markdown",
   "metadata": {
    "id": "mz5o-GqmGmTI"
   },
   "source": [
    "**Part A**"
   ]
  },
  {
   "cell_type": "code",
   "execution_count": 1,
   "metadata": {
    "id": "139997b1"
   },
   "outputs": [],
   "source": [
    "# import libraries\n",
    "import numpy as np \n",
    "import pandas as pd\n",
    "import seaborn as sns\n",
    "import matplotlib.pyplot as plt\n",
    "\n",
    "import sklearn\n",
    "from sklearn.model_selection import train_test_split\n",
    "from sklearn.linear_model import LinearRegression\n",
    "from sklearn.metrics import mean_squared_error, mean_absolute_error, r2_score\n",
    "from sklearn.linear_model import ElasticNet\n",
    "\n",
    "import statsmodels.api as sm\n",
    "from scipy.stats import zscore\n",
    "\n",
    "%matplotlib inline\n"
   ]
  },
  {
   "cell_type": "code",
   "execution_count": 2,
   "metadata": {
    "id": "e3b209fb",
    "outputId": "0945d016-0af6-4281-997d-159563edb12a"
   },
   "outputs": [
    {
     "data": {
      "text/html": [
       "<div>\n",
       "<style scoped>\n",
       "    .dataframe tbody tr th:only-of-type {\n",
       "        vertical-align: middle;\n",
       "    }\n",
       "\n",
       "    .dataframe tbody tr th {\n",
       "        vertical-align: top;\n",
       "    }\n",
       "\n",
       "    .dataframe thead th {\n",
       "        text-align: right;\n",
       "    }\n",
       "</style>\n",
       "<table border=\"1\" class=\"dataframe\">\n",
       "  <thead>\n",
       "    <tr style=\"text-align: right;\">\n",
       "      <th></th>\n",
       "      <th>Youtube</th>\n",
       "      <th>Facebook</th>\n",
       "      <th>Instagram</th>\n",
       "      <th>Expected profit</th>\n",
       "    </tr>\n",
       "  </thead>\n",
       "  <tbody>\n",
       "    <tr>\n",
       "      <th>0</th>\n",
       "      <td>230.1</td>\n",
       "      <td>37.8</td>\n",
       "      <td>69.2</td>\n",
       "      <td>22.1</td>\n",
       "    </tr>\n",
       "    <tr>\n",
       "      <th>1</th>\n",
       "      <td>44.5</td>\n",
       "      <td>39.3</td>\n",
       "      <td>45.1</td>\n",
       "      <td>10.4</td>\n",
       "    </tr>\n",
       "    <tr>\n",
       "      <th>2</th>\n",
       "      <td>17.2</td>\n",
       "      <td>45.9</td>\n",
       "      <td>69.3</td>\n",
       "      <td>9.3</td>\n",
       "    </tr>\n",
       "    <tr>\n",
       "      <th>3</th>\n",
       "      <td>151.5</td>\n",
       "      <td>41.3</td>\n",
       "      <td>58.5</td>\n",
       "      <td>18.5</td>\n",
       "    </tr>\n",
       "    <tr>\n",
       "      <th>4</th>\n",
       "      <td>180.8</td>\n",
       "      <td>10.8</td>\n",
       "      <td>58.4</td>\n",
       "      <td>12.9</td>\n",
       "    </tr>\n",
       "    <tr>\n",
       "      <th>...</th>\n",
       "      <td>...</td>\n",
       "      <td>...</td>\n",
       "      <td>...</td>\n",
       "      <td>...</td>\n",
       "    </tr>\n",
       "    <tr>\n",
       "      <th>195</th>\n",
       "      <td>38.2</td>\n",
       "      <td>3.7</td>\n",
       "      <td>13.8</td>\n",
       "      <td>7.6</td>\n",
       "    </tr>\n",
       "    <tr>\n",
       "      <th>196</th>\n",
       "      <td>94.2</td>\n",
       "      <td>4.9</td>\n",
       "      <td>8.1</td>\n",
       "      <td>9.7</td>\n",
       "    </tr>\n",
       "    <tr>\n",
       "      <th>197</th>\n",
       "      <td>177.0</td>\n",
       "      <td>9.3</td>\n",
       "      <td>6.4</td>\n",
       "      <td>12.8</td>\n",
       "    </tr>\n",
       "    <tr>\n",
       "      <th>198</th>\n",
       "      <td>283.6</td>\n",
       "      <td>42.0</td>\n",
       "      <td>66.2</td>\n",
       "      <td>25.5</td>\n",
       "    </tr>\n",
       "    <tr>\n",
       "      <th>199</th>\n",
       "      <td>232.1</td>\n",
       "      <td>8.6</td>\n",
       "      <td>8.7</td>\n",
       "      <td>13.4</td>\n",
       "    </tr>\n",
       "  </tbody>\n",
       "</table>\n",
       "<p>200 rows × 4 columns</p>\n",
       "</div>"
      ],
      "text/plain": [
       "     Youtube  Facebook  Instagram  Expected profit \n",
       "0      230.1      37.8       69.2              22.1\n",
       "1       44.5      39.3       45.1              10.4\n",
       "2       17.2      45.9       69.3               9.3\n",
       "3      151.5      41.3       58.5              18.5\n",
       "4      180.8      10.8       58.4              12.9\n",
       "..       ...       ...        ...               ...\n",
       "195     38.2       3.7       13.8               7.6\n",
       "196     94.2       4.9        8.1               9.7\n",
       "197    177.0       9.3        6.4              12.8\n",
       "198    283.6      42.0       66.2              25.5\n",
       "199    232.1       8.6        8.7              13.4\n",
       "\n",
       "[200 rows x 4 columns]"
      ]
     },
     "execution_count": 2,
     "metadata": {},
     "output_type": "execute_result"
    }
   ],
   "source": [
    "# read the data\n",
    "a = pd.read_csv(\"Amazon.csv\").drop(['Sr.No'], axis=1)\n",
    "a\n"
   ]
  },
  {
   "cell_type": "code",
   "execution_count": 3,
   "metadata": {
    "id": "82b28080",
    "outputId": "8a2049ec-4520-425c-ed70-8ab58008cc0b"
   },
   "outputs": [
    {
     "data": {
      "text/plain": [
       "<seaborn.axisgrid.PairGrid at 0x23395079b80>"
      ]
     },
     "execution_count": 3,
     "metadata": {},
     "output_type": "execute_result"
    },
    {
     "data": {
      "image/png": "[encoded data removed]",
      "text/plain": [
       "<Figure size 720x720 with 20 Axes>"
      ]
     },
     "metadata": {
      "needs_background": "light"
     },
     "output_type": "display_data"
    }
   ],
   "source": [
    "# Task 1: which social media to focus for a maximized profit\n",
    "\n",
    "# quick view on correlations\n",
    "sns.pairplot(a)\n"
   ]
  },
  {
   "cell_type": "markdown",
   "metadata": {
    "id": "17d3fc52"
   },
   "source": [
    "Observations: Youtube and Facebook have stronger correlations to Expected profit compared to Instagram."
   ]
  },
  {
   "cell_type": "code",
   "execution_count": 4,
   "metadata": {
    "id": "2df4806b",
    "outputId": "24289ab8-7d9e-4a60-de5c-c4c1395dd1af"
   },
   "outputs": [
    {
     "name": "stdout",
     "output_type": "stream",
     "text": [
      "                   Youtube  Facebook  Instagram  Expected profit \n",
      "Youtube           1.000000  0.054809   0.056648          0.782224\n",
      "Facebook          0.054809  1.000000   0.354104          0.576223\n",
      "Instagram         0.056648  0.354104   1.000000          0.228299\n",
      "Expected profit   0.782224  0.576223   0.228299          1.000000\n"
     ]
    }
   ],
   "source": [
    "# print and check correlations\n",
    "print(a.corr())\n"
   ]
  },
  {
   "cell_type": "markdown",
   "metadata": {
    "id": "035ee46d"
   },
   "source": [
    "Observations:\n",
    "Among independent variables, higher correlation (0.354104) was observed between Instagram and Facebook.\n",
    "Instagram, the social media with lowest contribution to the expected profit has been excluded from the analysis to prevent multicollinearity.\n",
    "    \n",
    "We built several multiple linear regression models with Youtube and Facebook as independent variables."
   ]
  },
  {
   "cell_type": "code",
   "execution_count": 5,
   "metadata": {
    "id": "eba4529c"
   },
   "outputs": [],
   "source": [
    "# assign X\n",
    "amazon_data = a[[\"Youtube\", \"Facebook\"]].values\n",
    "\n",
    "# create constant for SM OLS package\n",
    "amazon_data_w_constant = sm.add_constant(amazon_data)\n",
    "\n",
    "# assign y\n",
    "amazon_profit = a[[\"Expected profit \"]].values\n",
    "\n",
    "# name X features\n",
    "amazon_data_names = [\"constant\", \"Youtube\", \"Facebook\"]"
   ]
  },
  {
   "cell_type": "markdown",
   "metadata": {
    "id": "1f5dc568"
   },
   "source": [
    "### model 1: Statsmodel OLS"
   ]
  },
  {
   "cell_type": "code",
   "execution_count": 6,
   "metadata": {
    "id": "2bb60b41",
    "outputId": "aa8f7310-d6ce-4a71-fff4-4df1cd71c717"
   },
   "outputs": [
    {
     "name": "stdout",
     "output_type": "stream",
     "text": [
      "                            OLS Regression Results                            \n",
      "==============================================================================\n",
      "Dep. Variable:                      y   R-squared:                       0.892\n",
      "Model:                            OLS   Adj. R-squared:                  0.890\n",
      "Method:                 Least Squares   F-statistic:                     645.8\n",
      "Date:                Wed, 29 Sep 2021   Prob (F-statistic):           1.76e-76\n",
      "Time:                        12:13:52   Log-Likelihood:                -316.86\n",
      "No. Observations:                 160   AIC:                             639.7\n",
      "Df Residuals:                     157   BIC:                             648.9\n",
      "Df Model:                           2                                         \n",
      "Covariance Type:            nonrobust                                         \n",
      "==============================================================================\n",
      "                 coef    std err          t      P>|t|      [0.025      0.975]\n",
      "------------------------------------------------------------------------------\n",
      "constant       2.8677      0.344      8.324      0.000       2.187       3.548\n",
      "Youtube        0.0463      0.002     28.363      0.000       0.043       0.050\n",
      "Facebook       0.1880      0.010     19.745      0.000       0.169       0.207\n",
      "==============================================================================\n",
      "Omnibus:                       50.993   Durbin-Watson:                   2.116\n",
      "Prob(Omnibus):                  0.000   Jarque-Bera (JB):              118.781\n",
      "Skew:                          -1.370   Prob(JB):                     1.61e-26\n",
      "Kurtosis:                       6.211   Cond. No.                         422.\n",
      "==============================================================================\n",
      "\n",
      "Notes:\n",
      "[1] Standard Errors assume that the covariance matrix of the errors is correctly specified.\n"
     ]
    }
   ],
   "source": [
    "# split and fit the model\n",
    "X, y = amazon_data_w_constant, amazon_profit\n",
    "train_X, test_X, train_y, test_y = train_test_split(X , y, train_size = 0.8)\n",
    "\n",
    "OLSMod = sm.OLS(train_y, train_X).fit()\n",
    "print(OLSMod.summary(xname=amazon_data_names))\n"
   ]
  },
  {
   "cell_type": "code",
   "execution_count": 7,
   "metadata": {
    "id": "b9127544",
    "outputId": "2351b07b-1f09-4ba8-e6a7-a4c4ab7d0f46"
   },
   "outputs": [
    {
     "name": "stdout",
     "output_type": "stream",
     "text": [
      "Prediction R2: 92.50%\n"
     ]
    }
   ],
   "source": [
    "# print model evaluations for predictions\n",
    "\n",
    "predictions = OLSMod.predict(test_X)\n",
    "\n",
    "R2 = \"{:.2%}\".format(r2_score(test_y, predictions))\n",
    "print(\"Prediction R2:\", R2)\n"
   ]
  },
  {
   "cell_type": "code",
   "execution_count": 8,
   "metadata": {
    "id": "de79a42b",
    "outputId": "f73dc567-2783-4011-8f41-88e194a0092c"
   },
   "outputs": [
    {
     "data": {
      "image/png": "[encoded data removed]",
      "text/plain": [
       "<Figure size 864x504 with 2 Axes>"
      ]
     },
     "metadata": {},
     "output_type": "display_data"
    }
   ],
   "source": [
    "# render Residual Analysis\n",
    "\n",
    "sns.set_style(\"whitegrid\")\n",
    "\n",
    "fig, ax = plt.subplots(1, 2, figsize=(12, 7))\n",
    "sm.ProbPlot(OLSMod.resid, fit = True).ppplot(line='45', ax=ax[1]);\n",
    "histplot = sns.histplot(OLSMod.resid,kde=True, color ='blue',ax=ax[0])\n"
   ]
  },
  {
   "cell_type": "code",
   "execution_count": 9,
   "metadata": {
    "id": "84a6b3df",
    "outputId": "9609c09d-add3-4851-eeee-f2dfb756c9fb"
   },
   "outputs": [
    {
     "name": "stdout",
     "output_type": "stream",
     "text": [
      "Empty DataFrame\n",
      "Columns: [Youtube, Facebook, Instagram, Expected profit , z_score_price]\n",
      "Index: []\n"
     ]
    }
   ],
   "source": [
    "# Find Z-Score for Outlier Analysis\n",
    "a['z_score_price'] = zscore(a[\"Expected profit \"])\n",
    "\n",
    "# Outlier would lie in plus or minus 3 SD.\n",
    "ao = a[(a.z_score_price > 3.0) | (a.z_score_price < -3.0) ]\n",
    "\n",
    "print(ao)\n"
   ]
  },
  {
   "cell_type": "markdown",
   "metadata": {
    "id": "6862a2a0"
   },
   "source": [
    "Observations: No outliers in Data"
   ]
  },
  {
   "cell_type": "markdown",
   "metadata": {
    "id": "7aee0fa4"
   },
   "source": [
    "### Model 2: Sklearn OLS"
   ]
  },
  {
   "cell_type": "code",
   "execution_count": 10,
   "metadata": {
    "id": "b37767ef",
    "outputId": "e900c768-f904-4520-ea4d-5bc1bbc5aa8a"
   },
   "outputs": [
    {
     "name": "stdout",
     "output_type": "stream",
     "text": [
      "Model Score  0.8863058225813465 \n",
      "coefficients:  [[0.04611905 0.18028747]] \n",
      "intercept:  [3.0404117]\n"
     ]
    }
   ],
   "source": [
    "# split and fit the model\n",
    "X, y = amazon_data, amazon_profit\n",
    "train_X, test_X, train_y, test_y = train_test_split(X , y, train_size = 0.8)\n",
    "\n",
    "LinReg = LinearRegression(normalize=True, fit_intercept=True)\n",
    "LinReg.fit(train_X, train_y)\n",
    "print(\"Model Score \", LinReg.score(train_X, train_y), \"\\ncoefficients: \", LinReg.coef_, \"\\nintercept: \", LinReg.intercept_)\n"
   ]
  },
  {
   "cell_type": "code",
   "execution_count": 11,
   "metadata": {
    "id": "919603c2",
    "outputId": "0f1b38f6-9ca9-4f74-fd3f-90629d2c390e"
   },
   "outputs": [
    {
     "name": "stdout",
     "output_type": "stream",
     "text": [
      "Prediction R2: 93.68%\n"
     ]
    }
   ],
   "source": [
    "# print evaluations for predictions\n",
    "predictions = LinReg.predict(test_X)\n",
    "\n",
    "R2 = \"{:.2%}\".format(r2_score(test_y, predictions))\n",
    "\n",
    "print(\"Prediction R2:\", R2)\n"
   ]
  },
  {
   "cell_type": "markdown",
   "metadata": {
    "id": "8866516d"
   },
   "source": [
    "### Model 3: ElasticNet"
   ]
  },
  {
   "cell_type": "code",
   "execution_count": 12,
   "metadata": {
    "id": "67fba195",
    "outputId": "ae9ea67d-cd89-4e7b-fa6b-58517eaad2be"
   },
   "outputs": [
    {
     "name": "stdout",
     "output_type": "stream",
     "text": [
      "Model Score  0.9082107075888421 \n",
      "coefficients:  [0.04379479 0.18638873] \n",
      "intercept:  [3.32061018]\n"
     ]
    }
   ],
   "source": [
    "# split and fit the model\n",
    "X, y = amazon_data, amazon_profit\n",
    "train_X, test_X, train_y, test_y = train_test_split(X , y, train_size = 0.8)\n",
    "\n",
    "regr = ElasticNet(random_state=0)\n",
    "\n",
    "ElasticNet(random_state=0)\n",
    "\n",
    "train_X, test_X, train_y, test_y = train_test_split(X , y, train_size = 0.8)\n",
    "\n",
    "regr.fit(train_X, train_y)\n",
    "\n",
    "print(\"Model Score \", regr.score(train_X, train_y), \"\\ncoefficients: \", regr.coef_, \"\\nintercept: \", regr.intercept_)\n"
   ]
  },
  {
   "cell_type": "code",
   "execution_count": 13,
   "metadata": {
    "id": "bd43174a",
    "outputId": "18046907-dfa7-4922-8a06-61d75eea8b3c"
   },
   "outputs": [
    {
     "name": "stdout",
     "output_type": "stream",
     "text": [
      "Prediction R2: 86.21%\n"
     ]
    }
   ],
   "source": [
    "# print evaluations for predictions\n",
    "predictions = regr.predict(test_X)\n",
    "\n",
    "R2 = \"{:.2%}\".format(r2_score(test_y, predictions))\n",
    "\n",
    "print(\"Prediction R2:\", R2)\n"
   ]
  },
  {
   "cell_type": "markdown",
   "metadata": {
    "id": "d9ba933c"
   },
   "source": [
    "Conclusion: Instagram not only has high correlations with Facebook which can cause multicollinearity but also negligible correlations to the profit compared to other two variables. After removing Instagram, we obtained much reliable prediction models. All the three models showed high prediction scores up to 92.84%, which can differ by random splitting. Therefore, these models can provide insights to promote better marketing strategies using YouTube and Facebook."
   ]
  },
  {
   "cell_type": "markdown",
   "metadata": {
    "id": "n1VTeDlXJyAk"
   },
   "source": [
    "**Part B**"
   ]
  },
  {
   "cell_type": "code",
   "execution_count": 14,
   "metadata": {
    "id": "r6tzkiroJv4s"
   },
   "outputs": [],
   "source": [
    "import matplotlib.pyplot as plt\n",
    "import numpy as np\n",
    "from sklearn import datasets, linear_model\n",
    "from sklearn.metrics import mean_squared_error, r2_score\n",
    "import pandas as pd\n",
    "import statsmodels.api as sm\n",
    "import seaborn as sns"
   ]
  },
  {
   "cell_type": "code",
   "execution_count": 15,
   "metadata": {
    "colab": {
     "base_uri": "https://localhost:8080/",
     "height": 204
    },
    "id": "wM4MHxFBJwDA",
    "outputId": "ef4cee46-8995-43ac-9198-04eebc89ac6c"
   },
   "outputs": [
    {
     "data": {
      "text/html": [
       "<div>\n",
       "<style scoped>\n",
       "    .dataframe tbody tr th:only-of-type {\n",
       "        vertical-align: middle;\n",
       "    }\n",
       "\n",
       "    .dataframe tbody tr th {\n",
       "        vertical-align: top;\n",
       "    }\n",
       "\n",
       "    .dataframe thead th {\n",
       "        text-align: right;\n",
       "    }\n",
       "</style>\n",
       "<table border=\"1\" class=\"dataframe\">\n",
       "  <thead>\n",
       "    <tr style=\"text-align: right;\">\n",
       "      <th></th>\n",
       "      <th>price</th>\n",
       "      <th>area</th>\n",
       "      <th>bedrooms</th>\n",
       "      <th>bathrooms</th>\n",
       "      <th>stories</th>\n",
       "      <th>mainroad</th>\n",
       "      <th>guestroom</th>\n",
       "      <th>basement</th>\n",
       "      <th>hotwaterheating</th>\n",
       "      <th>airconditioning</th>\n",
       "      <th>parking</th>\n",
       "      <th>prefarea</th>\n",
       "      <th>furnishingstatus</th>\n",
       "    </tr>\n",
       "  </thead>\n",
       "  <tbody>\n",
       "    <tr>\n",
       "      <th>0</th>\n",
       "      <td>13300000</td>\n",
       "      <td>7420</td>\n",
       "      <td>4</td>\n",
       "      <td>2</td>\n",
       "      <td>3</td>\n",
       "      <td>yes</td>\n",
       "      <td>no</td>\n",
       "      <td>no</td>\n",
       "      <td>no</td>\n",
       "      <td>yes</td>\n",
       "      <td>2</td>\n",
       "      <td>yes</td>\n",
       "      <td>furnished</td>\n",
       "    </tr>\n",
       "    <tr>\n",
       "      <th>1</th>\n",
       "      <td>12250000</td>\n",
       "      <td>8960</td>\n",
       "      <td>4</td>\n",
       "      <td>4</td>\n",
       "      <td>4</td>\n",
       "      <td>yes</td>\n",
       "      <td>no</td>\n",
       "      <td>no</td>\n",
       "      <td>no</td>\n",
       "      <td>yes</td>\n",
       "      <td>3</td>\n",
       "      <td>no</td>\n",
       "      <td>furnished</td>\n",
       "    </tr>\n",
       "    <tr>\n",
       "      <th>2</th>\n",
       "      <td>12250000</td>\n",
       "      <td>9960</td>\n",
       "      <td>3</td>\n",
       "      <td>2</td>\n",
       "      <td>2</td>\n",
       "      <td>yes</td>\n",
       "      <td>no</td>\n",
       "      <td>yes</td>\n",
       "      <td>no</td>\n",
       "      <td>no</td>\n",
       "      <td>2</td>\n",
       "      <td>yes</td>\n",
       "      <td>semi-furnished</td>\n",
       "    </tr>\n",
       "    <tr>\n",
       "      <th>3</th>\n",
       "      <td>12215000</td>\n",
       "      <td>7500</td>\n",
       "      <td>4</td>\n",
       "      <td>2</td>\n",
       "      <td>2</td>\n",
       "      <td>yes</td>\n",
       "      <td>no</td>\n",
       "      <td>yes</td>\n",
       "      <td>no</td>\n",
       "      <td>yes</td>\n",
       "      <td>3</td>\n",
       "      <td>yes</td>\n",
       "      <td>furnished</td>\n",
       "    </tr>\n",
       "    <tr>\n",
       "      <th>4</th>\n",
       "      <td>11410000</td>\n",
       "      <td>7420</td>\n",
       "      <td>4</td>\n",
       "      <td>1</td>\n",
       "      <td>2</td>\n",
       "      <td>yes</td>\n",
       "      <td>yes</td>\n",
       "      <td>yes</td>\n",
       "      <td>no</td>\n",
       "      <td>yes</td>\n",
       "      <td>2</td>\n",
       "      <td>no</td>\n",
       "      <td>furnished</td>\n",
       "    </tr>\n",
       "  </tbody>\n",
       "</table>\n",
       "</div>"
      ],
      "text/plain": [
       "      price  area  bedrooms  bathrooms  stories mainroad guestroom basement  \\\n",
       "0  13300000  7420         4          2        3      yes        no       no   \n",
       "1  12250000  8960         4          4        4      yes        no       no   \n",
       "2  12250000  9960         3          2        2      yes        no      yes   \n",
       "3  12215000  7500         4          2        2      yes        no      yes   \n",
       "4  11410000  7420         4          1        2      yes       yes      yes   \n",
       "\n",
       "  hotwaterheating airconditioning  parking prefarea furnishingstatus  \n",
       "0              no             yes        2      yes        furnished  \n",
       "1              no             yes        3       no        furnished  \n",
       "2              no              no        2      yes   semi-furnished  \n",
       "3              no             yes        3      yes        furnished  \n",
       "4              no             yes        2       no        furnished  "
      ]
     },
     "execution_count": 15,
     "metadata": {},
     "output_type": "execute_result"
    }
   ],
   "source": [
    "# read the data\n",
    "data_b0=pd.read_csv('REMAX.csv')\n",
    "data_b0.head()"
   ]
  },
  {
   "cell_type": "code",
   "execution_count": 16,
   "metadata": {
    "colab": {
     "base_uri": "https://localhost:8080/"
    },
    "id": "jdYbCDhXUD9f",
    "outputId": "c416373a-ba24-46bd-cba9-aedfc9bb354e"
   },
   "outputs": [
    {
     "name": "stdout",
     "output_type": "stream",
     "text": [
      "<class 'pandas.core.frame.DataFrame'>\n",
      "RangeIndex: 545 entries, 0 to 544\n",
      "Data columns (total 13 columns):\n",
      " #   Column            Non-Null Count  Dtype \n",
      "---  ------            --------------  ----- \n",
      " 0   price             545 non-null    int64 \n",
      " 1   area              545 non-null    int64 \n",
      " 2   bedrooms          545 non-null    int64 \n",
      " 3   bathrooms         545 non-null    int64 \n",
      " 4   stories           545 non-null    int64 \n",
      " 5   mainroad          545 non-null    object\n",
      " 6   guestroom         545 non-null    object\n",
      " 7   basement          545 non-null    object\n",
      " 8   hotwaterheating   545 non-null    object\n",
      " 9   airconditioning   545 non-null    object\n",
      " 10  parking           545 non-null    int64 \n",
      " 11  prefarea          545 non-null    object\n",
      " 12  furnishingstatus  545 non-null    object\n",
      "dtypes: int64(6), object(7)\n",
      "memory usage: 55.5+ KB\n"
     ]
    }
   ],
   "source": [
    "# explore the data\n",
    "data_b0.info()"
   ]
  },
  {
   "cell_type": "code",
   "execution_count": 17,
   "metadata": {
    "colab": {
     "base_uri": "https://localhost:8080/",
     "height": 297
    },
    "id": "iy6anVBzUOMm",
    "outputId": "b75e97aa-0133-4b97-b271-dd8923eb6925"
   },
   "outputs": [
    {
     "data": {
      "text/html": [
       "<div>\n",
       "<style scoped>\n",
       "    .dataframe tbody tr th:only-of-type {\n",
       "        vertical-align: middle;\n",
       "    }\n",
       "\n",
       "    .dataframe tbody tr th {\n",
       "        vertical-align: top;\n",
       "    }\n",
       "\n",
       "    .dataframe thead th {\n",
       "        text-align: right;\n",
       "    }\n",
       "</style>\n",
       "<table border=\"1\" class=\"dataframe\">\n",
       "  <thead>\n",
       "    <tr style=\"text-align: right;\">\n",
       "      <th></th>\n",
       "      <th>price</th>\n",
       "      <th>area</th>\n",
       "      <th>bedrooms</th>\n",
       "      <th>bathrooms</th>\n",
       "      <th>stories</th>\n",
       "      <th>parking</th>\n",
       "    </tr>\n",
       "  </thead>\n",
       "  <tbody>\n",
       "    <tr>\n",
       "      <th>count</th>\n",
       "      <td>5.450000e+02</td>\n",
       "      <td>545.000000</td>\n",
       "      <td>545.000000</td>\n",
       "      <td>545.000000</td>\n",
       "      <td>545.000000</td>\n",
       "      <td>545.000000</td>\n",
       "    </tr>\n",
       "    <tr>\n",
       "      <th>mean</th>\n",
       "      <td>4.766729e+06</td>\n",
       "      <td>5150.541284</td>\n",
       "      <td>2.965138</td>\n",
       "      <td>1.286239</td>\n",
       "      <td>1.805505</td>\n",
       "      <td>0.693578</td>\n",
       "    </tr>\n",
       "    <tr>\n",
       "      <th>std</th>\n",
       "      <td>1.870440e+06</td>\n",
       "      <td>2170.141023</td>\n",
       "      <td>0.738064</td>\n",
       "      <td>0.502470</td>\n",
       "      <td>0.867492</td>\n",
       "      <td>0.861586</td>\n",
       "    </tr>\n",
       "    <tr>\n",
       "      <th>min</th>\n",
       "      <td>1.750000e+06</td>\n",
       "      <td>1650.000000</td>\n",
       "      <td>1.000000</td>\n",
       "      <td>1.000000</td>\n",
       "      <td>1.000000</td>\n",
       "      <td>0.000000</td>\n",
       "    </tr>\n",
       "    <tr>\n",
       "      <th>25%</th>\n",
       "      <td>3.430000e+06</td>\n",
       "      <td>3600.000000</td>\n",
       "      <td>2.000000</td>\n",
       "      <td>1.000000</td>\n",
       "      <td>1.000000</td>\n",
       "      <td>0.000000</td>\n",
       "    </tr>\n",
       "    <tr>\n",
       "      <th>50%</th>\n",
       "      <td>4.340000e+06</td>\n",
       "      <td>4600.000000</td>\n",
       "      <td>3.000000</td>\n",
       "      <td>1.000000</td>\n",
       "      <td>2.000000</td>\n",
       "      <td>0.000000</td>\n",
       "    </tr>\n",
       "    <tr>\n",
       "      <th>75%</th>\n",
       "      <td>5.740000e+06</td>\n",
       "      <td>6360.000000</td>\n",
       "      <td>3.000000</td>\n",
       "      <td>2.000000</td>\n",
       "      <td>2.000000</td>\n",
       "      <td>1.000000</td>\n",
       "    </tr>\n",
       "    <tr>\n",
       "      <th>max</th>\n",
       "      <td>1.330000e+07</td>\n",
       "      <td>16200.000000</td>\n",
       "      <td>6.000000</td>\n",
       "      <td>4.000000</td>\n",
       "      <td>4.000000</td>\n",
       "      <td>3.000000</td>\n",
       "    </tr>\n",
       "  </tbody>\n",
       "</table>\n",
       "</div>"
      ],
      "text/plain": [
       "              price          area    bedrooms   bathrooms     stories  \\\n",
       "count  5.450000e+02    545.000000  545.000000  545.000000  545.000000   \n",
       "mean   4.766729e+06   5150.541284    2.965138    1.286239    1.805505   \n",
       "std    1.870440e+06   2170.141023    0.738064    0.502470    0.867492   \n",
       "min    1.750000e+06   1650.000000    1.000000    1.000000    1.000000   \n",
       "25%    3.430000e+06   3600.000000    2.000000    1.000000    1.000000   \n",
       "50%    4.340000e+06   4600.000000    3.000000    1.000000    2.000000   \n",
       "75%    5.740000e+06   6360.000000    3.000000    2.000000    2.000000   \n",
       "max    1.330000e+07  16200.000000    6.000000    4.000000    4.000000   \n",
       "\n",
       "          parking  \n",
       "count  545.000000  \n",
       "mean     0.693578  \n",
       "std      0.861586  \n",
       "min      0.000000  \n",
       "25%      0.000000  \n",
       "50%      0.000000  \n",
       "75%      1.000000  \n",
       "max      3.000000  "
      ]
     },
     "execution_count": 17,
     "metadata": {},
     "output_type": "execute_result"
    }
   ],
   "source": [
    "data_b0.describe()"
   ]
  },
  {
   "cell_type": "code",
   "execution_count": 18,
   "metadata": {
    "id": "rvcUdNmpJwI6"
   },
   "outputs": [],
   "source": [
    "# Convert 'Yes', 'No' values to 1 and 0.\n",
    "data_b0['mainroad']=data_b0['mainroad'].map({'yes':1,'no':0})\n",
    "data_b0['guestroom']=data_b0['guestroom'].map({'yes':1,'no':0})\n",
    "data_b0['basement']=data_b0['basement'].map({'yes':1,'no':0})\n",
    "data_b0['hotwaterheating']=data_b0['hotwaterheating'].map({'yes':1,'no':0})\n",
    "data_b0['airconditioning']=data_b0['airconditioning'].map({'yes':1,'no':0})\n",
    "data_b0['prefarea']=data_b0['prefarea'].map({'yes':1,'no':0})"
   ]
  },
  {
   "cell_type": "code",
   "execution_count": 19,
   "metadata": {
    "colab": {
     "base_uri": "https://localhost:8080/",
     "height": 204
    },
    "id": "ZAk1vGSSJwLe",
    "outputId": "61794718-2637-4ba3-93d5-8db9fcbd1b8f"
   },
   "outputs": [
    {
     "data": {
      "text/html": [
       "<div>\n",
       "<style scoped>\n",
       "    .dataframe tbody tr th:only-of-type {\n",
       "        vertical-align: middle;\n",
       "    }\n",
       "\n",
       "    .dataframe tbody tr th {\n",
       "        vertical-align: top;\n",
       "    }\n",
       "\n",
       "    .dataframe thead th {\n",
       "        text-align: right;\n",
       "    }\n",
       "</style>\n",
       "<table border=\"1\" class=\"dataframe\">\n",
       "  <thead>\n",
       "    <tr style=\"text-align: right;\">\n",
       "      <th></th>\n",
       "      <th>price</th>\n",
       "      <th>area</th>\n",
       "      <th>bedrooms</th>\n",
       "      <th>bathrooms</th>\n",
       "      <th>stories</th>\n",
       "      <th>mainroad</th>\n",
       "      <th>guestroom</th>\n",
       "      <th>basement</th>\n",
       "      <th>hotwaterheating</th>\n",
       "      <th>airconditioning</th>\n",
       "      <th>parking</th>\n",
       "      <th>prefarea</th>\n",
       "      <th>furnishingstatus_furnished</th>\n",
       "      <th>furnishingstatus_semi-furnished</th>\n",
       "      <th>furnishingstatus_unfurnished</th>\n",
       "    </tr>\n",
       "  </thead>\n",
       "  <tbody>\n",
       "    <tr>\n",
       "      <th>0</th>\n",
       "      <td>13300000</td>\n",
       "      <td>7420</td>\n",
       "      <td>4</td>\n",
       "      <td>2</td>\n",
       "      <td>3</td>\n",
       "      <td>1</td>\n",
       "      <td>0</td>\n",
       "      <td>0</td>\n",
       "      <td>0</td>\n",
       "      <td>1</td>\n",
       "      <td>2</td>\n",
       "      <td>1</td>\n",
       "      <td>1</td>\n",
       "      <td>0</td>\n",
       "      <td>0</td>\n",
       "    </tr>\n",
       "    <tr>\n",
       "      <th>1</th>\n",
       "      <td>12250000</td>\n",
       "      <td>8960</td>\n",
       "      <td>4</td>\n",
       "      <td>4</td>\n",
       "      <td>4</td>\n",
       "      <td>1</td>\n",
       "      <td>0</td>\n",
       "      <td>0</td>\n",
       "      <td>0</td>\n",
       "      <td>1</td>\n",
       "      <td>3</td>\n",
       "      <td>0</td>\n",
       "      <td>1</td>\n",
       "      <td>0</td>\n",
       "      <td>0</td>\n",
       "    </tr>\n",
       "    <tr>\n",
       "      <th>2</th>\n",
       "      <td>12250000</td>\n",
       "      <td>9960</td>\n",
       "      <td>3</td>\n",
       "      <td>2</td>\n",
       "      <td>2</td>\n",
       "      <td>1</td>\n",
       "      <td>0</td>\n",
       "      <td>1</td>\n",
       "      <td>0</td>\n",
       "      <td>0</td>\n",
       "      <td>2</td>\n",
       "      <td>1</td>\n",
       "      <td>0</td>\n",
       "      <td>1</td>\n",
       "      <td>0</td>\n",
       "    </tr>\n",
       "    <tr>\n",
       "      <th>3</th>\n",
       "      <td>12215000</td>\n",
       "      <td>7500</td>\n",
       "      <td>4</td>\n",
       "      <td>2</td>\n",
       "      <td>2</td>\n",
       "      <td>1</td>\n",
       "      <td>0</td>\n",
       "      <td>1</td>\n",
       "      <td>0</td>\n",
       "      <td>1</td>\n",
       "      <td>3</td>\n",
       "      <td>1</td>\n",
       "      <td>1</td>\n",
       "      <td>0</td>\n",
       "      <td>0</td>\n",
       "    </tr>\n",
       "    <tr>\n",
       "      <th>4</th>\n",
       "      <td>11410000</td>\n",
       "      <td>7420</td>\n",
       "      <td>4</td>\n",
       "      <td>1</td>\n",
       "      <td>2</td>\n",
       "      <td>1</td>\n",
       "      <td>1</td>\n",
       "      <td>1</td>\n",
       "      <td>0</td>\n",
       "      <td>1</td>\n",
       "      <td>2</td>\n",
       "      <td>0</td>\n",
       "      <td>1</td>\n",
       "      <td>0</td>\n",
       "      <td>0</td>\n",
       "    </tr>\n",
       "  </tbody>\n",
       "</table>\n",
       "</div>"
      ],
      "text/plain": [
       "      price  area  bedrooms  bathrooms  stories  mainroad  guestroom  \\\n",
       "0  13300000  7420         4          2        3         1          0   \n",
       "1  12250000  8960         4          4        4         1          0   \n",
       "2  12250000  9960         3          2        2         1          0   \n",
       "3  12215000  7500         4          2        2         1          0   \n",
       "4  11410000  7420         4          1        2         1          1   \n",
       "\n",
       "   basement  hotwaterheating  airconditioning  parking  prefarea  \\\n",
       "0         0                0                1        2         1   \n",
       "1         0                0                1        3         0   \n",
       "2         1                0                0        2         1   \n",
       "3         1                0                1        3         1   \n",
       "4         1                0                1        2         0   \n",
       "\n",
       "   furnishingstatus_furnished  furnishingstatus_semi-furnished  \\\n",
       "0                           1                                0   \n",
       "1                           1                                0   \n",
       "2                           0                                1   \n",
       "3                           1                                0   \n",
       "4                           1                                0   \n",
       "\n",
       "   furnishingstatus_unfurnished  \n",
       "0                             0  \n",
       "1                             0  \n",
       "2                             0  \n",
       "3                             0  \n",
       "4                             0  "
      ]
     },
     "execution_count": 19,
     "metadata": {},
     "output_type": "execute_result"
    }
   ],
   "source": [
    "data_b = pd.get_dummies(data_b0, columns=['furnishingstatus'])\n",
    "data_b.head()"
   ]
  },
  {
   "cell_type": "code",
   "execution_count": 20,
   "metadata": {
    "id": "oRe5BWDwKFEd"
   },
   "outputs": [],
   "source": [
    "# Assign columns as dependent variable and independent variables\n",
    "## Independent Variable\n",
    "x_b = data_b.drop('price',axis=1)\n",
    "x_b_constant =  sm.add_constant(x_b)\n",
    "## Dependent Variable\n",
    "y_b = data_b['price']"
   ]
  },
  {
   "cell_type": "code",
   "execution_count": 21,
   "metadata": {
    "id": "wq-8mH6bKFHD"
   },
   "outputs": [],
   "source": [
    "# Split data into training and testing sets\n",
    "from sklearn.model_selection import train_test_split\n",
    "train_x_b, test_x_b, train_y_b, test_y_b = train_test_split( x_b_constant,y_b,train_size = 0.8,random_state = 100 )"
   ]
  },
  {
   "cell_type": "code",
   "execution_count": 22,
   "metadata": {
    "id": "dPgBv_HKKFLk"
   },
   "outputs": [],
   "source": [
    "# Model fit\n",
    "remax_lm=sm.OLS(train_y_b,train_x_b.astype(float)).fit()"
   ]
  },
  {
   "cell_type": "code",
   "execution_count": 23,
   "metadata": {
    "colab": {
     "base_uri": "https://localhost:8080/"
    },
    "id": "PNm_Mei9KFN0",
    "outputId": "10ead8d5-baa9-4b12-c0d6-5a099b1a1f9e"
   },
   "outputs": [
    {
     "name": "stdout",
     "output_type": "stream",
     "text": [
      "const                             -1.522293e+05\n",
      "area                               2.434617e+02\n",
      "bedrooms                           9.072275e+04\n",
      "bathrooms                          1.137441e+06\n",
      "stories                            4.058954e+05\n",
      "mainroad                           5.751244e+05\n",
      "guestroom                          3.848975e+05\n",
      "basement                           2.777378e+05\n",
      "hotwaterheating                    8.478554e+05\n",
      "airconditioning                    8.450776e+05\n",
      "parking                            2.418730e+05\n",
      "prefarea                           6.044695e+05\n",
      "furnishingstatus_furnished         1.256488e+05\n",
      "furnishingstatus_semi-furnished    2.366982e+04\n",
      "furnishingstatus_unfurnished      -3.015480e+05\n",
      "dtype: float64\n"
     ]
    }
   ],
   "source": [
    "# Check the estimated parameter results\n",
    "print(remax_lm.params)"
   ]
  },
  {
   "cell_type": "code",
   "execution_count": 24,
   "metadata": {
    "colab": {
     "base_uri": "https://localhost:8080/"
    },
    "id": "-BymzguvKFQM",
    "outputId": "304b934c-1222-4764-ca46-cfd73bf9bd1d"
   },
   "outputs": [
    {
     "name": "stdout",
     "output_type": "stream",
     "text": [
      "                            OLS Regression Results                            \n",
      "==============================================================================\n",
      "Dep. Variable:                  price   R-squared:                       0.678\n",
      "Model:                            OLS   Adj. R-squared:                  0.668\n",
      "Method:                 Least Squares   F-statistic:                     68.41\n",
      "Date:                Wed, 29 Sep 2021   Prob (F-statistic):           3.51e-95\n",
      "Time:                        12:13:54   Log-Likelihood:                -6666.8\n",
      "No. Observations:                 436   AIC:                         1.336e+04\n",
      "Df Residuals:                     422   BIC:                         1.342e+04\n",
      "Df Model:                          13                                         \n",
      "Covariance Type:            nonrobust                                         \n",
      "===================================================================================================\n",
      "                                      coef    std err          t      P>|t|      [0.025      0.975]\n",
      "---------------------------------------------------------------------------------------------------\n",
      "const                           -1.522e+05   2.04e+05     -0.748      0.455   -5.52e+05    2.48e+05\n",
      "area                              243.4617     27.683      8.795      0.000     189.048     297.875\n",
      "bedrooms                         9.072e+04    8.3e+04      1.093      0.275   -7.25e+04    2.54e+05\n",
      "bathrooms                        1.137e+06   1.17e+05      9.710      0.000    9.07e+05    1.37e+06\n",
      "stories                          4.059e+05   7.14e+04      5.687      0.000    2.66e+05    5.46e+05\n",
      "mainroad                         5.751e+05   1.62e+05      3.545      0.000    2.56e+05    8.94e+05\n",
      "guestroom                        3.849e+05   1.51e+05      2.555      0.011    8.88e+04    6.81e+05\n",
      "basement                         2.777e+05   1.24e+05      2.241      0.026    3.41e+04    5.21e+05\n",
      "hotwaterheating                  8.479e+05   2.32e+05      3.658      0.000    3.92e+05     1.3e+06\n",
      "airconditioning                  8.451e+05   1.23e+05      6.844      0.000    6.02e+05    1.09e+06\n",
      "parking                          2.419e+05   6.55e+04      3.693      0.000    1.13e+05    3.71e+05\n",
      "prefarea                         6.045e+05    1.3e+05      4.667      0.000     3.5e+05    8.59e+05\n",
      "furnishingstatus_furnished       1.256e+05   1.15e+05      1.097      0.273   -9.94e+04    3.51e+05\n",
      "furnishingstatus_semi-furnished  2.367e+04   9.69e+04      0.244      0.807   -1.67e+05    2.14e+05\n",
      "furnishingstatus_unfurnished    -3.015e+05    9.3e+04     -3.243      0.001   -4.84e+05   -1.19e+05\n",
      "==============================================================================\n",
      "Omnibus:                       79.435   Durbin-Watson:                   2.090\n",
      "Prob(Omnibus):                  0.000   Jarque-Bera (JB):              209.468\n",
      "Skew:                           0.886   Prob(JB):                     3.27e-46\n",
      "Kurtosis:                       5.897   Cond. No.                     2.56e+19\n",
      "==============================================================================\n",
      "\n",
      "Notes:\n",
      "[1] Standard Errors assume that the covariance matrix of the errors is correctly specified.\n",
      "[2] The smallest eigenvalue is 2.07e-29. This might indicate that there are\n",
      "strong multicollinearity problems or that the design matrix is singular.\n"
     ]
    }
   ],
   "source": [
    "# Explore stastistical summary\n",
    "print(remax_lm.summary())"
   ]
  },
  {
   "cell_type": "code",
   "execution_count": 25,
   "metadata": {
    "colab": {
     "base_uri": "https://localhost:8080/",
     "height": 312
    },
    "id": "c7p8LMhSKFUv",
    "outputId": "ee013371-94f7-4d04-b873-118cc17c73cd"
   },
   "outputs": [
    {
     "data": {
      "text/plain": [
       "<Figure size 576x432 with 0 Axes>"
      ]
     },
     "metadata": {},
     "output_type": "display_data"
    },
    {
     "data": {
      "image/png": "[encoded data removed]",
      "text/plain": [
       "<Figure size 432x288 with 1 Axes>"
      ]
     },
     "metadata": {
      "needs_background": "light"
     },
     "output_type": "display_data"
    }
   ],
   "source": [
    "# Conduct a residual analysis\n",
    "import matplotlib.pyplot as plt\n",
    "import seaborn as sns\n",
    "%matplotlib inline\n",
    "\n",
    "remax_resid = remax_lm.resid\n",
    "probplot = sm.ProbPlot( remax_resid, fit = True )\n",
    "plt.figure( figsize = (8, 6) )\n",
    "probplot.ppplot( line='45' )\n",
    "plt.title( \"[Fig B-1] - Normal P-P Plot of Regression Standardized Residuals for First Regression\" )\n",
    "plt.show()"
   ]
  },
  {
   "cell_type": "code",
   "execution_count": 26,
   "metadata": {
    "colab": {
     "base_uri": "https://localhost:8080/",
     "height": 420
    },
    "id": "muDyc7yaWPXg",
    "outputId": "1785350f-78eb-4e82-e1fd-7f40f2d58b48"
   },
   "outputs": [
    {
     "data": {
      "image/png": "[encoded data removed]",
      "text/plain": [
       "<Figure size 432x288 with 2 Axes>"
      ]
     },
     "metadata": {
      "needs_background": "light"
     },
     "output_type": "display_data"
    }
   ],
   "source": [
    "# print correlation matrix heatmap\n",
    "corr = data_b.corr()\n",
    "_ = sns.heatmap(corr,\n",
    "                xticklabels=corr.columns.values,\n",
    "                yticklabels=corr.columns.values)"
   ]
  },
  {
   "cell_type": "code",
   "execution_count": 27,
   "metadata": {
    "id": "XxSYjjFgLQfs"
   },
   "outputs": [],
   "source": [
    "# Detect multicollinearity with VIF and model with best fit\n",
    "from statsmodels.stats.outliers_influence import variance_inflation_factor\n",
    "def get_vif_factors( x_b ):\n",
    "    x_b_matrix = x_b.to_numpy()\n",
    "    vif = [ variance_inflation_factor( x_b_matrix, i ) for i in range( x_b_matrix.shape[1] ) ]\n",
    "    vif_factors = pd.DataFrame()\n",
    "    vif_factors['column'] = x_b.columns\n",
    "    vif_factors['vif'] = vif\n",
    "    return vif_factors"
   ]
  },
  {
   "cell_type": "code",
   "execution_count": 28,
   "metadata": {
    "colab": {
     "base_uri": "https://localhost:8080/",
     "height": 582
    },
    "id": "73KSC7k4LQjf",
    "outputId": "fd2567fd-d973-4dc7-8bdf-a0254cf69051"
   },
   "outputs": [
    {
     "data": {
      "text/html": [
       "<div>\n",
       "<style scoped>\n",
       "    .dataframe tbody tr th:only-of-type {\n",
       "        vertical-align: middle;\n",
       "    }\n",
       "\n",
       "    .dataframe tbody tr th {\n",
       "        vertical-align: top;\n",
       "    }\n",
       "\n",
       "    .dataframe thead th {\n",
       "        text-align: right;\n",
       "    }\n",
       "</style>\n",
       "<table border=\"1\" class=\"dataframe\">\n",
       "  <thead>\n",
       "    <tr style=\"text-align: right;\">\n",
       "      <th></th>\n",
       "      <th>column</th>\n",
       "      <th>vif</th>\n",
       "    </tr>\n",
       "  </thead>\n",
       "  <tbody>\n",
       "    <tr>\n",
       "      <th>12</th>\n",
       "      <td>furnishingstatus_semi-furnished</td>\n",
       "      <td>12.404306</td>\n",
       "    </tr>\n",
       "    <tr>\n",
       "      <th>13</th>\n",
       "      <td>furnishingstatus_unfurnished</td>\n",
       "      <td>8.826219</td>\n",
       "    </tr>\n",
       "    <tr>\n",
       "      <th>11</th>\n",
       "      <td>furnishingstatus_furnished</td>\n",
       "      <td>8.575840</td>\n",
       "    </tr>\n",
       "    <tr>\n",
       "      <th>3</th>\n",
       "      <td>stories</td>\n",
       "      <td>1.478055</td>\n",
       "    </tr>\n",
       "    <tr>\n",
       "      <th>1</th>\n",
       "      <td>bedrooms</td>\n",
       "      <td>1.369477</td>\n",
       "    </tr>\n",
       "    <tr>\n",
       "      <th>0</th>\n",
       "      <td>area</td>\n",
       "      <td>1.325250</td>\n",
       "    </tr>\n",
       "    <tr>\n",
       "      <th>6</th>\n",
       "      <td>basement</td>\n",
       "      <td>1.323050</td>\n",
       "    </tr>\n",
       "    <tr>\n",
       "      <th>2</th>\n",
       "      <td>bathrooms</td>\n",
       "      <td>1.286621</td>\n",
       "    </tr>\n",
       "    <tr>\n",
       "      <th>5</th>\n",
       "      <td>guestroom</td>\n",
       "      <td>1.212838</td>\n",
       "    </tr>\n",
       "    <tr>\n",
       "      <th>9</th>\n",
       "      <td>parking</td>\n",
       "      <td>1.212837</td>\n",
       "    </tr>\n",
       "    <tr>\n",
       "      <th>8</th>\n",
       "      <td>airconditioning</td>\n",
       "      <td>1.211840</td>\n",
       "    </tr>\n",
       "    <tr>\n",
       "      <th>4</th>\n",
       "      <td>mainroad</td>\n",
       "      <td>1.172728</td>\n",
       "    </tr>\n",
       "    <tr>\n",
       "      <th>10</th>\n",
       "      <td>prefarea</td>\n",
       "      <td>1.149196</td>\n",
       "    </tr>\n",
       "    <tr>\n",
       "      <th>7</th>\n",
       "      <td>hotwaterheating</td>\n",
       "      <td>1.041506</td>\n",
       "    </tr>\n",
       "  </tbody>\n",
       "</table>\n",
       "</div>"
      ],
      "text/plain": [
       "                             column        vif\n",
       "12  furnishingstatus_semi-furnished  12.404306\n",
       "13     furnishingstatus_unfurnished   8.826219\n",
       "11       furnishingstatus_furnished   8.575840\n",
       "3                           stories   1.478055\n",
       "1                          bedrooms   1.369477\n",
       "0                              area   1.325250\n",
       "6                          basement   1.323050\n",
       "2                         bathrooms   1.286621\n",
       "5                         guestroom   1.212838\n",
       "9                           parking   1.212837\n",
       "8                   airconditioning   1.211840\n",
       "4                          mainroad   1.172728\n",
       "10                         prefarea   1.149196\n",
       "7                   hotwaterheating   1.041506"
      ]
     },
     "execution_count": 28,
     "metadata": {},
     "output_type": "execute_result"
    }
   ],
   "source": [
    "vif_factors = get_vif_factors(x_b).sort_values('vif', ascending=False)\n",
    "vif_factors"
   ]
  },
  {
   "cell_type": "code",
   "execution_count": 29,
   "metadata": {
    "colab": {
     "base_uri": "https://localhost:8080/",
     "height": 421
    },
    "id": "eSgpn24fLQln",
    "outputId": "c4169395-0d60-4196-99ad-409c6feab3b7"
   },
   "outputs": [
    {
     "data": {
      "text/html": [
       "<div>\n",
       "<style scoped>\n",
       "    .dataframe tbody tr th:only-of-type {\n",
       "        vertical-align: middle;\n",
       "    }\n",
       "\n",
       "    .dataframe tbody tr th {\n",
       "        vertical-align: top;\n",
       "    }\n",
       "\n",
       "    .dataframe thead th {\n",
       "        text-align: right;\n",
       "    }\n",
       "</style>\n",
       "<table border=\"1\" class=\"dataframe\">\n",
       "  <thead>\n",
       "    <tr style=\"text-align: right;\">\n",
       "      <th></th>\n",
       "      <th>column</th>\n",
       "      <th>vif</th>\n",
       "    </tr>\n",
       "  </thead>\n",
       "  <tbody>\n",
       "    <tr>\n",
       "      <th>0</th>\n",
       "      <td>parking</td>\n",
       "      <td>1.944662</td>\n",
       "    </tr>\n",
       "    <tr>\n",
       "      <th>1</th>\n",
       "      <td>prefarea</td>\n",
       "      <td>1.485975</td>\n",
       "    </tr>\n",
       "    <tr>\n",
       "      <th>2</th>\n",
       "      <td>airconditioning</td>\n",
       "      <td>1.740480</td>\n",
       "    </tr>\n",
       "    <tr>\n",
       "      <th>3</th>\n",
       "      <td>basement</td>\n",
       "      <td>2.012668</td>\n",
       "    </tr>\n",
       "    <tr>\n",
       "      <th>4</th>\n",
       "      <td>hotwaterheating</td>\n",
       "      <td>1.088037</td>\n",
       "    </tr>\n",
       "    <tr>\n",
       "      <th>5</th>\n",
       "      <td>guestroom</td>\n",
       "      <td>1.466132</td>\n",
       "    </tr>\n",
       "    <tr>\n",
       "      <th>6</th>\n",
       "      <td>mainroad</td>\n",
       "      <td>6.767779</td>\n",
       "    </tr>\n",
       "    <tr>\n",
       "      <th>7</th>\n",
       "      <td>bedrooms</td>\n",
       "      <td>15.186992</td>\n",
       "    </tr>\n",
       "    <tr>\n",
       "      <th>8</th>\n",
       "      <td>area</td>\n",
       "      <td>8.237351</td>\n",
       "    </tr>\n",
       "    <tr>\n",
       "      <th>9</th>\n",
       "      <td>bathrooms</td>\n",
       "      <td>9.397157</td>\n",
       "    </tr>\n",
       "    <tr>\n",
       "      <th>10</th>\n",
       "      <td>stories</td>\n",
       "      <td>7.878703</td>\n",
       "    </tr>\n",
       "  </tbody>\n",
       "</table>\n",
       "</div>"
      ],
      "text/plain": [
       "             column        vif\n",
       "0           parking   1.944662\n",
       "1          prefarea   1.485975\n",
       "2   airconditioning   1.740480\n",
       "3          basement   2.012668\n",
       "4   hotwaterheating   1.088037\n",
       "5         guestroom   1.466132\n",
       "6          mainroad   6.767779\n",
       "7          bedrooms  15.186992\n",
       "8              area   8.237351\n",
       "9         bathrooms   9.397157\n",
       "10          stories   7.878703"
      ]
     },
     "execution_count": 29,
     "metadata": {},
     "output_type": "execute_result"
    }
   ],
   "source": [
    "# Remove variables with high VIF\n",
    "rmv = ['furnishingstatus_furnished','furnishingstatus_semi-furnished','furnishingstatus_unfurnished']\n",
    "x_b2 = list( set(x_b) - set(rmv) )\n",
    "get_vif_factors(x_b[x_b2])"
   ]
  },
  {
   "cell_type": "code",
   "execution_count": 30,
   "metadata": {
    "colab": {
     "base_uri": "https://localhost:8080/"
    },
    "id": "KymiEJ3BLQpr",
    "outputId": "bc1ed9e2-a962-4a41-e86a-33ba84fb4677"
   },
   "outputs": [
    {
     "name": "stdout",
     "output_type": "stream",
     "text": [
      "                                 OLS Regression Results                                \n",
      "=======================================================================================\n",
      "Dep. Variable:                  price   R-squared (uncentered):                   0.956\n",
      "Model:                            OLS   Adj. R-squared (uncentered):              0.955\n",
      "Method:                 Least Squares   F-statistic:                              848.3\n",
      "Date:                Wed, 29 Sep 2021   Prob (F-statistic):                   3.15e-281\n",
      "Time:                        12:13:55   Log-Likelihood:                         -6673.3\n",
      "No. Observations:                 436   AIC:                                  1.337e+04\n",
      "Df Residuals:                     425   BIC:                                  1.341e+04\n",
      "Df Model:                          11                                                  \n",
      "Covariance Type:            nonrobust                                                  \n",
      "===================================================================================\n",
      "                      coef    std err          t      P>|t|      [0.025      0.975]\n",
      "-----------------------------------------------------------------------------------\n",
      "parking          2.679e+05   6.56e+04      4.081      0.000    1.39e+05    3.97e+05\n",
      "prefarea         6.169e+05   1.31e+05      4.719      0.000     3.6e+05    8.74e+05\n",
      "airconditioning  8.847e+05   1.24e+05      7.148      0.000    6.41e+05    1.13e+06\n",
      "basement         2.928e+05   1.25e+05      2.346      0.019    4.75e+04    5.38e+05\n",
      "hotwaterheating  9.065e+05   2.34e+05      3.880      0.000    4.47e+05    1.37e+06\n",
      "guestroom        4.055e+05   1.52e+05      2.672      0.008    1.07e+05    7.04e+05\n",
      "mainroad         5.203e+05   1.49e+05      3.486      0.001    2.27e+05    8.14e+05\n",
      "bedrooms         3.383e+04    6.8e+04      0.497      0.619   -9.98e+04    1.67e+05\n",
      "area              238.9832     27.045      8.836      0.000     185.824     292.143\n",
      "bathrooms        1.121e+06   1.16e+05      9.649      0.000    8.93e+05    1.35e+06\n",
      "stories          4.155e+05   7.21e+04      5.764      0.000    2.74e+05    5.57e+05\n",
      "==============================================================================\n",
      "Omnibus:                       85.625   Durbin-Watson:                   2.092\n",
      "Prob(Omnibus):                  0.000   Jarque-Bera (JB):              243.762\n",
      "Skew:                           0.926   Prob(JB):                     1.17e-53\n",
      "Kurtosis:                       6.160   Cond. No.                     2.52e+04\n",
      "==============================================================================\n",
      "\n",
      "Notes:\n",
      "[1] R² is computed without centering (uncentered) since the model does not contain a constant.\n",
      "[2] Standard Errors assume that the covariance matrix of the errors is correctly specified.\n",
      "[3] The condition number is large, 2.52e+04. This might indicate that there are\n",
      "strong multicollinearity or other numerical problems.\n"
     ]
    }
   ],
   "source": [
    "# Build new model after removing variables with high VIFs\n",
    "train_x_b = train_x_b[x_b2]\n",
    "remax_lm2 = sm.OLS(train_y_b, train_x_b).fit()\n",
    "print(remax_lm2.summary())"
   ]
  },
  {
   "cell_type": "code",
   "execution_count": 31,
   "metadata": {
    "id": "zbM9MBoEJwRF"
   },
   "outputs": [
    {
     "data": {
      "text/plain": [
       "<Figure size 576x432 with 0 Axes>"
      ]
     },
     "metadata": {},
     "output_type": "display_data"
    },
    {
     "data": {
      "image/png": "[encoded data removed]",
      "text/plain": [
       "<Figure size 432x288 with 1 Axes>"
      ]
     },
     "metadata": {
      "needs_background": "light"
     },
     "output_type": "display_data"
    }
   ],
   "source": [
    "# Re-do the residual analysis and compare with the first one\n",
    "remax_resid2 = remax_lm2.resid\n",
    "probplot = sm.ProbPlot( remax_resid2, fit = True )\n",
    "plt.figure( figsize = (8, 6) )\n",
    "probplot.ppplot( line='45' )\n",
    "plt.title( \"[Fig B-2] Normal P-P Plot of Regression Standardized Residuals for Second Regression\" )\n",
    "plt.show()"
   ]
  },
  {
   "cell_type": "markdown",
   "metadata": {},
   "source": [
    "According to our analysis, the factors that have explanatory power to the price are: area, bedrooms, bathrooms, stories, mainroad, guestroom, basement, hotwaterheating, airconditioning, parking, and prefarea. The first regression shows that furnishing status is comparatively insignificant in pricing, and its  the VIF analysis indicates that the different furnishing status features (furnished, semi-furnished, not furnished) have high multicollinearity, which means that these features are highly correlated and reduces the explanatory power of the model. Removing the furnishing status gives a model with an improved goodness of fit with a 95.6% r-squared. Therefore, the price should be predicted without the furnishing status factor."
   ]
  },
  {
   "cell_type": "markdown",
   "metadata": {
    "id": "4B2Ordd6NHT4"
   },
   "source": [
    "**Part C**"
   ]
  },
  {
   "cell_type": "code",
   "execution_count": 10,
   "metadata": {
    "id": "758gHsOwNXoY"
   },
   "outputs": [],
   "source": [
    "import matplotlib.pyplot as plt\n",
    "import numpy as np\n",
    "from sklearn import datasets, linear_model\n",
    "from sklearn.metrics import mean_squared_error, r2_score\n",
    "import pandas as pd \n",
    "\n",
    "## Setting Pandas print option to print decimal values upto 4 places\n",
    "np.set_printoptions(precision=4, linewidth=100)\n",
    "# linewidth = The number of characters per line for the purpose of inserting line breaks \n",
    "\n",
    "# Read the excel dataset\n",
    "data = pd.read_excel(\"Inventory.xlsx\")\n",
    "data = data.rename(columns={' Cost':'Cost'})"
   ]
  },
  {
   "cell_type": "code",
   "execution_count": 11,
   "metadata": {},
   "outputs": [
    {
     "name": "stdout",
     "output_type": "stream",
     "text": [
      "<class 'pandas.core.frame.DataFrame'>\n",
      "RangeIndex: 36 entries, 0 to 35\n",
      "Data columns (total 2 columns):\n",
      " #   Column    Non-Null Count  Dtype  \n",
      "---  ------    --------------  -----  \n",
      " 0   Cost      36 non-null     float64\n",
      " 1   Quantity  36 non-null     int64  \n",
      "dtypes: float64(1), int64(1)\n",
      "memory usage: 704.0 bytes\n"
     ]
    }
   ],
   "source": [
    "# Explore dataset\n",
    "data.info()"
   ]
  },
  {
   "cell_type": "code",
   "execution_count": 12,
   "metadata": {},
   "outputs": [
    {
     "data": {
      "image/png": "[encoded data removed]",
      "text/plain": [
       "<Figure size 432x288 with 1 Axes>"
      ]
     },
     "metadata": {
      "needs_background": "light"
     },
     "output_type": "display_data"
    }
   ],
   "source": [
    "# Draw scatter plot to check the relationship between the two variables\n",
    "plt.scatter(data['Quantity'],data['Cost'])\n",
    "plt.xlabel(\"Quantity\")\n",
    "plt.ylabel(\"Cost\")\n",
    "plt.show()"
   ]
  },
  {
   "cell_type": "code",
   "execution_count": 13,
   "metadata": {
    "code_folding": []
   },
   "outputs": [],
   "source": [
    "import statsmodels.api as sm\n",
    "\n",
    "# Seperate the independent variable\n",
    "X = sm.add_constant( data['Quantity'] )\n",
    "X.head(5)\n",
    "\n",
    "# Dependent variable\n",
    "Y = data['Cost']\n",
    "\n"
   ]
  },
  {
   "cell_type": "code",
   "execution_count": 14,
   "metadata": {},
   "outputs": [],
   "source": [
    "from sklearn.model_selection import train_test_split\n",
    "# Splitting the dataset into Train and Test.\n",
    "\n",
    "# 80:20 - Train:Test\n",
    "train_X, test_X, train_y, test_y = train_test_split( X ,Y,train_size = 0.8,random_state = 100 )"
   ]
  },
  {
   "cell_type": "code",
   "execution_count": 15,
   "metadata": {},
   "outputs": [
    {
     "name": "stdout",
     "output_type": "stream",
     "text": [
      "const       55.651110\n",
      "Quantity     0.000612\n",
      "dtype: float64\n"
     ]
    }
   ],
   "source": [
    "# Model Fit\n",
    "inventory_lm = sm.OLS( train_y, train_X ).fit()\n",
    "\n",
    "# Estimated Parameter Results\n",
    "print( inventory_lm.params )\n"
   ]
  },
  {
   "cell_type": "code",
   "execution_count": 16,
   "metadata": {},
   "outputs": [
    {
     "name": "stdout",
     "output_type": "stream",
     "text": [
      "                            OLS Regression Results                            \n",
      "==============================================================================\n",
      "Dep. Variable:                   Cost   R-squared:                       0.002\n",
      "Model:                            OLS   Adj. R-squared:                 -0.036\n",
      "Method:                 Least Squares   F-statistic:                   0.05072\n",
      "Date:                Wed, 29 Sep 2021   Prob (F-statistic):              0.824\n",
      "Time:                        13:00:40   Log-Likelihood:                -81.644\n",
      "No. Observations:                  28   AIC:                             167.3\n",
      "Df Residuals:                      26   BIC:                             170.0\n",
      "Df Model:                           1                                         \n",
      "Covariance Type:            nonrobust                                         \n",
      "==============================================================================\n",
      "                 coef    std err          t      P>|t|      [0.025      0.975]\n",
      "------------------------------------------------------------------------------\n",
      "const         55.6511      1.990     27.962      0.000      51.560      59.742\n",
      "Quantity       0.0006      0.003      0.225      0.824      -0.005       0.006\n",
      "==============================================================================\n",
      "Omnibus:                        1.328   Durbin-Watson:                   2.112\n",
      "Prob(Omnibus):                  0.515   Jarque-Bera (JB):                1.045\n",
      "Skew:                          -0.228   Prob(JB):                        0.593\n",
      "Kurtosis:                       2.171   Cond. No.                     1.66e+03\n",
      "==============================================================================\n",
      "\n",
      "Notes:\n",
      "[1] Standard Errors assume that the covariance matrix of the errors is correctly specified.\n",
      "[2] The condition number is large, 1.66e+03. This might indicate that there are\n",
      "strong multicollinearity or other numerical problems.\n"
     ]
    }
   ],
   "source": [
    "# Model Diagostics\n",
    "print(inventory_lm.summary())"
   ]
  },
  {
   "cell_type": "code",
   "execution_count": 17,
   "metadata": {},
   "outputs": [
    {
     "data": {
      "text/plain": [
       "<Figure size 576x432 with 0 Axes>"
      ]
     },
     "metadata": {},
     "output_type": "display_data"
    },
    {
     "data": {
      "image/png": "[encoded data removed]",
      "text/plain": [
       "<Figure size 432x288 with 1 Axes>"
      ]
     },
     "metadata": {
      "needs_background": "light"
     },
     "output_type": "display_data"
    }
   ],
   "source": [
    "rue_resid = inventory_lm.resid\n",
    "probplot = sm.ProbPlot( rue_resid, fit = True )\n",
    "plt.figure( figsize = (8, 6) )\n",
    "probplot.ppplot( line='45' )\n",
    "plt.title( \"[Fig C] - Normal P-P Plot of Regression Standardized Residuals\" )\n",
    "plt.show()"
   ]
  },
  {
   "cell_type": "code",
   "execution_count": 18,
   "metadata": {},
   "outputs": [
    {
     "data": {
      "text/html": [
       "<div>\n",
       "<style scoped>\n",
       "    .dataframe tbody tr th:only-of-type {\n",
       "        vertical-align: middle;\n",
       "    }\n",
       "\n",
       "    .dataframe tbody tr th {\n",
       "        vertical-align: top;\n",
       "    }\n",
       "\n",
       "    .dataframe thead th {\n",
       "        text-align: right;\n",
       "    }\n",
       "</style>\n",
       "<table border=\"1\" class=\"dataframe\">\n",
       "  <thead>\n",
       "    <tr style=\"text-align: right;\">\n",
       "      <th></th>\n",
       "      <th>Cost</th>\n",
       "      <th>Quantity</th>\n",
       "      <th>z_score_cost</th>\n",
       "    </tr>\n",
       "  </thead>\n",
       "  <tbody>\n",
       "  </tbody>\n",
       "</table>\n",
       "</div>"
      ],
      "text/plain": [
       "Empty DataFrame\n",
       "Columns: [Cost, Quantity, z_score_cost]\n",
       "Index: []"
      ]
     },
     "execution_count": 18,
     "metadata": {},
     "output_type": "execute_result"
    }
   ],
   "source": [
    "# Check the z-score for outlier analysis\n",
    "from scipy.stats import zscore\n",
    "data['z_score_cost']=zscore(data.Cost)\n",
    "\n",
    "data[ (data.z_score_cost > 3.0) | (data.z_score_cost < -3.0) ]"
   ]
  },
  {
   "cell_type": "code",
   "execution_count": 20,
   "metadata": {},
   "outputs": [
    {
     "name": "stdout",
     "output_type": "stream",
     "text": [
      "Prediction R2: 0.11713371287241503\n"
     ]
    }
   ],
   "source": [
    "# Same on test dataset\n",
    "pred_y = inventory_lm.predict( test_X )\n",
    "# Prediction on Validation set\n",
    "\n",
    "from sklearn.metrics import r2_score, mean_squared_error\n",
    "\n",
    "\n",
    "# print model evaluations for predictions\n",
    "R2 = np.abs(r2_score(test_y, pred_y))\n",
    "print(\"Prediction R2:\", R2)\n"
   ]
  },
  {
   "cell_type": "code",
   "execution_count": 21,
   "metadata": {},
   "outputs": [
    {
     "data": {
      "text/plain": [
       "4.554073712565091"
      ]
     },
     "execution_count": 21,
     "metadata": {},
     "output_type": "execute_result"
    }
   ],
   "source": [
    "import numpy\n",
    "np.sqrt(mean_squared_error(test_y, pred_y))"
   ]
  },
  {
   "cell_type": "code",
   "execution_count": 22,
   "metadata": {},
   "outputs": [
    {
     "data": {
      "text/html": [
       "<div>\n",
       "<style scoped>\n",
       "    .dataframe tbody tr th:only-of-type {\n",
       "        vertical-align: middle;\n",
       "    }\n",
       "\n",
       "    .dataframe tbody tr th {\n",
       "        vertical-align: top;\n",
       "    }\n",
       "\n",
       "    .dataframe thead th {\n",
       "        text-align: right;\n",
       "    }\n",
       "</style>\n",
       "<table border=\"1\" class=\"dataframe\">\n",
       "  <thead>\n",
       "    <tr style=\"text-align: right;\">\n",
       "      <th></th>\n",
       "      <th>Quantity</th>\n",
       "      <th>pred_y</th>\n",
       "      <th>pred_y_left</th>\n",
       "      <th>pred_y_right</th>\n",
       "    </tr>\n",
       "  </thead>\n",
       "  <tbody>\n",
       "    <tr>\n",
       "      <th>0</th>\n",
       "      <td>844</td>\n",
       "      <td>56.167561</td>\n",
       "      <td>48.073222</td>\n",
       "      <td>64.261900</td>\n",
       "    </tr>\n",
       "    <tr>\n",
       "      <th>19</th>\n",
       "      <td>1174</td>\n",
       "      <td>56.369491</td>\n",
       "      <td>47.973230</td>\n",
       "      <td>64.765752</td>\n",
       "    </tr>\n",
       "    <tr>\n",
       "      <th>32</th>\n",
       "      <td>741</td>\n",
       "      <td>56.104535</td>\n",
       "      <td>48.047112</td>\n",
       "      <td>64.161957</td>\n",
       "    </tr>\n",
       "    <tr>\n",
       "      <th>35</th>\n",
       "      <td>870</td>\n",
       "      <td>56.183471</td>\n",
       "      <td>48.075397</td>\n",
       "      <td>64.291545</td>\n",
       "    </tr>\n",
       "    <tr>\n",
       "      <th>7</th>\n",
       "      <td>577</td>\n",
       "      <td>56.004182</td>\n",
       "      <td>47.947321</td>\n",
       "      <td>64.061042</td>\n",
       "    </tr>\n",
       "    <tr>\n",
       "      <th>12</th>\n",
       "      <td>1160</td>\n",
       "      <td>56.360924</td>\n",
       "      <td>47.982919</td>\n",
       "      <td>64.738929</td>\n",
       "    </tr>\n",
       "    <tr>\n",
       "      <th>29</th>\n",
       "      <td>780</td>\n",
       "      <td>56.128399</td>\n",
       "      <td>48.060300</td>\n",
       "      <td>64.196499</td>\n",
       "    </tr>\n",
       "    <tr>\n",
       "      <th>33</th>\n",
       "      <td>712</td>\n",
       "      <td>56.086789</td>\n",
       "      <td>48.034685</td>\n",
       "      <td>64.138894</td>\n",
       "    </tr>\n",
       "  </tbody>\n",
       "</table>\n",
       "</div>"
      ],
      "text/plain": [
       "    Quantity     pred_y  pred_y_left  pred_y_right\n",
       "0        844  56.167561    48.073222     64.261900\n",
       "19      1174  56.369491    47.973230     64.765752\n",
       "32       741  56.104535    48.047112     64.161957\n",
       "35       870  56.183471    48.075397     64.291545\n",
       "7        577  56.004182    47.947321     64.061042\n",
       "12      1160  56.360924    47.982919     64.738929\n",
       "29       780  56.128399    48.060300     64.196499\n",
       "33       712  56.086789    48.034685     64.138894"
      ]
     },
     "execution_count": 22,
     "metadata": {},
     "output_type": "execute_result"
    }
   ],
   "source": [
    "from statsmodels.sandbox.regression.predstd import wls_prediction_std\n",
    "# Predict the y values\n",
    "pred_y = inventory_lm.predict( test_X )\n",
    "# Predict the low and high interval values for y\n",
    "_, pred_y_low, pred_y_high = wls_prediction_std( inventory_lm,\n",
    "test_X,\n",
    "alpha = 0.1) #90 % confidence interval\n",
    "# Store all the values in a dataframe\n",
    "pred_y_df = pd.DataFrame( { 'Quantity': test_X['Quantity'],\n",
    "'pred_y': pred_y,\n",
    "'pred_y_left': pred_y_low,\n",
    "'pred_y_right': pred_y_high } )\n",
    "\n",
    "pred_y_df\n",
    "\n"
   ]
  },
  {
   "cell_type": "markdown",
   "metadata": {},
   "source": [
    "**Part D**"
   ]
  },
  {
   "cell_type": "code",
   "execution_count": 46,
   "metadata": {},
   "outputs": [],
   "source": [
    "# Task 1\n",
    "\n",
    "# Import regex library\n",
    "import re\n",
    "\n",
    "# Open both files\n",
    "file1 = open(\"script01.txt\",\"r\") #open script01.txt and save into file1\n",
    "file2 = open(\"script02.txt\", \"r\") #open script02.txt and save into file2\n",
    "\n",
    "script1 = file1.read() #read in file1 into script1\n",
    "script2 = file2.read() #read in file2 into script2\n",
    "\n",
    "script = script1 + script2 #combine script1 and script2\n",
    "\n",
    "# Step 2: Create list and dictionary\n",
    "atoz = \"abcdefghijklmnopqrstuvwxyz\" #create a list of the alphabet\n",
    "\n",
    "outcome = {} #Create empty dictionary\n",
    "\n",
    "# Step 3: Create your own function \n",
    "for character in script: \n",
    "    ch = character.lower() #make all characters lowercase\n",
    "    if ch in atoz: #check to see if the character is in the alphabet\n",
    "        if ch not in outcome: #check to see if character is not already saved in dictionary\n",
    "            outcome[ch] = 1 #Save character in dictionary and set value to 1\n",
    "        else: #Character already saved in dictionary\n",
    "            outcome[ch] += 1 #Add 1 to the value\n",
    "\n",
    "# Sort dictionary from highest to lowest value\n",
    "outcome_sort = sorted(outcome.items(), reverse = True, key=lambda x: x[1])\n",
    "\n",
    "# Display the sorted output \n",
    "outcome_sort\n",
    "\n",
    "# Write the output to text file called parta\n",
    "with open('parta.txt','w') as f:\n",
    "    print(outcome_sort,file=f)\n",
    "\n"
   ]
  },
  {
   "cell_type": "code",
   "execution_count": 47,
   "metadata": {},
   "outputs": [],
   "source": [
    "# Task 2\n",
    "\n",
    "# Import regex library\n",
    "import re\n",
    "\n",
    "file1 = open(\"script01.txt\",\"r\") #open script01.txt and save into file1\n",
    "file2 = open(\"script02.txt\", \"r\") #open script02.txt and save into file2\n",
    "\n",
    "script1 = file1.read() #read in file1 into script1\n",
    "script2 = file2.read() #read in file2 into script2\n",
    "\n",
    "# Combine script1 and script2\n",
    "script = script1 + script2 \n",
    "\n",
    "# Convert all text to lower\n",
    "script = script.lower()\n",
    "\n",
    "# Substitute all characters except alphabets and spaces by an empty space \n",
    "script = re.sub('[^a-z ]+', ' ', script)\n",
    "\n",
    "# Split the string into an array containing individual words\n",
    "words = script.split()\n",
    "\n",
    "# Create empty dictionary\n",
    "outcome2 = {} \n",
    "\n",
    "# For loop to count the occurence of each word\n",
    "for word in words: \n",
    "  if word not in outcome2: # If word is not in outcome\n",
    "    outcome2[word] = 1 # Add the word and set index to 1\n",
    "  else:\n",
    "    outcome2[word] += 1 # Otherwise increase the index by 1\n",
    "\n",
    "# Sort the dict by the number of occurences of each word\n",
    "outcome2_sort = sorted(outcome2.items(), reverse = True, key=lambda x: x[1])\n",
    "\n",
    "# Display the top 10 most frequently occuring words\n",
    "list(outcome2_sort)[:10]\n",
    "\n",
    "# Write the output to text file called partb\n",
    "with open('partb.txt','w') as f:\n",
    "    print(outcome2_sort,file=f)\n"
   ]
  },
  {
   "cell_type": "code",
   "execution_count": 48,
   "metadata": {},
   "outputs": [],
   "source": [
    "# Task 3\n",
    "\n",
    "# Get relevant libraries \n",
    "import re\n",
    "import pandas as pd\n",
    "\n",
    "# Open script01.txt and save into file1\n",
    "file1 = open(\"script01.txt\",\"r\") \n",
    "\n",
    "# Open script02.txt and save into file1\n",
    "file2 = open(\"script02.txt\",\"r\")\n",
    "\n",
    "# Read in file1 into script1\n",
    "script1 = file1.read() \n",
    "\n",
    "# Read in file2 into script2\n",
    "script2 = file2.read()\n",
    "\n",
    "# Load the data and convert the stop words into a list\n",
    "data = pd.read_csv('stopwords.csv')\n",
    "stop_words = data['above'].tolist()\n",
    "\n",
    "# Convert script1 to lowercase and substitute all characters except alphabets and spaces by an empty space \n",
    "script1 = script1.lower()\n",
    "script1 = re.sub('[^a-z ]+', ' ', script1)\n",
    "\n",
    "# Split script1 into a list of words\n",
    "script1 = script1.split()\n",
    "\n",
    "# Convert script2 to lowercase and substitute all characters except alphabets and spaces by an empty space \n",
    "script2 = script2.lower()\n",
    "script2 = re.sub('[^a-z ]+', ' ', script2)\n",
    "\n",
    "# Split script2 into a list of words\n",
    "script2 = script2.split()\n",
    "\n",
    "# Create empty list to hold all the filtered words from script1\n",
    "final_words1 = []\n",
    "\n",
    "# Check all words in script1\n",
    "for word in script1:\n",
    "    if word not in stop_words: # If word is not in stop words\n",
    "        if len(word) >= 2: # If the word is not a singleton\n",
    "            final_words1.append(word)  # Add the word to list holding the filtered words from script1\n",
    "\n",
    "# Create empty list to hold all the filtered words from script2\n",
    "final_words2 = []\n",
    "\n",
    "# Check all words in script1\n",
    "for word in script2:\n",
    "    if word not in stop_words: # If word is not in stop words\n",
    "        if len(word) >= 2: # If the word is not a singleton\n",
    "            final_words2.append(word)  # Add the word to list holding the filtered words from script2               \n",
    "\n",
    "outcome_script1 = {} # Create empty dictionary to hold word count\n",
    "\n",
    "# For all filtered words from script1\n",
    "for word in final_words1: \n",
    "    \n",
    "  if word not in outcome_script1: # Check to see if word is not already saved in dictionary\n",
    "    outcome_script1[word] = 1 # Save word in dictionary and set value to 1\n",
    "  else:  # Word already saved in dictionary\n",
    "    outcome_script1[word] += 1 # Increase the count occurrence of the word\n",
    "\n",
    "# Sort dictionary from highest to lowest value\n",
    "outcome_script1 = sorted(outcome_script1.items(), reverse = True, key=lambda x: x[1]) \n",
    "\n",
    "# Grab the top 10 values which represent the 10 most occurring words and their counts\n",
    "top_10 = (outcome_script1)[:10] \n",
    "\n",
    "# Empty list to store the top 10 words\n",
    "top_10_words = []\n",
    "\n",
    "# Grab the 10 most occurring words from the list, which is the first part of a tuple\n",
    "for word in top_10:\n",
    "    top_10_words.append(word[0])\n",
    "\n",
    "# Empty dict to store counts of occurring in script2\n",
    "script2_count = {}\n",
    "\n",
    "# Check all filtered words in script2\n",
    "for word in final_words2:\n",
    "    if word in top_10_words: # If the word exists in the list containing top 10 words from script1\n",
    "        if word not in script2_count: # Check to see if word already saved in the dict\n",
    "            script2_count[word] = 1 # Save word in dict and set value to 1\n",
    "        else: # Word already saved in dict\n",
    "            script2_count[word] += 1 # Increase the count occurrence of the word\n",
    "\n",
    "# Check all filtered words in script2\n",
    "for word in top_10_words:\n",
    "    if word not in script2_count: # If word did not appear in top 10 list\n",
    "        script2_count[word] = 0 # Set the count of that word to 0\n",
    "\n",
    "# Sory both lists containing the words and their occurrence count alphabetically\n",
    "count = sorted(script2_count.items(), reverse = False, key=lambda x: x[0])\n",
    "top_10 = sorted(top_10, reverse = False, key=lambda x: x[0])\n",
    "\n",
    "# Convert the lists to dataframes\n",
    "df1 = pd.DataFrame(top_10, columns =['Word', 'Script1_count'])\n",
    "df2 = pd.DataFrame(count, columns =['Word', 'Script2_count'])\n",
    "\n",
    "# Merge the 2 dataframes to get the word and thier counts in both scripts\n",
    "data = df1.merge(df2)\n",
    "\n",
    "# Print the resulting dataframe\n",
    "data\n",
    "\n",
    "# Write the output to text file called partc\n",
    "with open('partc.txt','w') as f:\n",
    "    print(data,file=f)\n",
    "    "
   ]
  },
  {
   "cell_type": "code",
   "execution_count": null,
   "metadata": {},
   "outputs": [],
   "source": []
  },
  {
   "cell_type": "code",
   "execution_count": null,
   "metadata": {},
   "outputs": [],
   "source": []
  }
 ],
 "metadata": {
  "colab": {
   "collapsed_sections": [],
   "name": "A4.ipynb",
   "provenance": []
  },
  "kernelspec": {
   "display_name": "Python 3",
   "language": "python",
   "name": "python3"
  },
  "language_info": {
   "codemirror_mode": {
    "name": "ipython",
    "version": 3
   },
   "file_extension": ".py",
   "mimetype": "text/x-python",
   "name": "python",
   "nbconvert_exporter": "python",
   "pygments_lexer": "ipython3",
   "version": "3.8.8"
  }
 },
 "nbformat": 4,
 "nbformat_minor": 1
}
