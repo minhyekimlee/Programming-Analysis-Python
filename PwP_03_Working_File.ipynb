{
 "cells": [
  {
   "cell_type": "markdown",
   "id": "d0d7786d",
   "metadata": {},
   "source": [
    "# Practice with Professor_S_03\n",
    "## Assignment 02 Solution Analysis"
   ]
  },
  {
   "cell_type": "markdown",
   "id": "c4e4942e",
   "metadata": {},
   "source": [
    "+ Task_02: The Grade code [15 points] "
   ]
  },
  {
   "cell_type": "code",
   "execution_count": 2,
   "id": "0884e665",
   "metadata": {},
   "outputs": [
    {
     "name": "stdout",
     "output_type": "stream",
     "text": [
      "0\n",
      "1\n",
      "2\n",
      "3\n",
      "4\n"
     ]
    }
   ],
   "source": [
    "for i in range(5):\n",
    "    print(i)\n",
    "    \n",
    "\n",
    "    "
   ]
  },
  {
   "cell_type": "code",
   "execution_count": 7,
   "id": "221c5a53",
   "metadata": {},
   "outputs": [
    {
     "name": "stdout",
     "output_type": "stream",
     "text": [
      "How many students do you need to enter grades for:3\n",
      "Enter the name of student 1:M\n",
      "Enter the student's final grade:A\n",
      "Enter the name of student 2:B\n",
      "Enter the student's final grade:V\n",
      "Enter the name of student 3:F\n",
      "Enter the student's final grade:D\n"
     ]
    }
   ],
   "source": [
    "# use of f strings\n",
    "\n",
    "nStud = int(input(\"How many students do you need to enter grades for:\"))\n",
    "grades = []\n",
    "for i in range(nStud):\n",
    "    name = input(f\"Enter the name of student {i + 1}:\")\n",
    "    grade = input(\"Enter the student's final grade:\")\n",
    "    grades.append([name, grade])\n",
    "    \n",
    "    "
   ]
  },
  {
   "cell_type": "code",
   "execution_count": 8,
   "id": "79efb062",
   "metadata": {},
   "outputs": [
    {
     "data": {
      "text/plain": [
       "[['M', 'A'], ['B', 'V'], ['F', 'D']]"
      ]
     },
     "execution_count": 8,
     "metadata": {},
     "output_type": "execute_result"
    }
   ],
   "source": [
    "grades"
   ]
  },
  {
   "cell_type": "markdown",
   "id": "335b463e",
   "metadata": {},
   "source": [
    "+ Task_03:The Grade code contd…………. [10 points] "
   ]
  },
  {
   "cell_type": "code",
   "execution_count": 9,
   "id": "cd62aabf",
   "metadata": {},
   "outputs": [],
   "source": [
    "import pandas as pd\n",
    "\n",
    "q1 = pd.read_csv(\"Quiz1.csv\")\n",
    "q2 = pd.read_csv(\"Quiz2.csv\")\n",
    "q3 = pd.read_csv(\"Quiz3.csv\")\n",
    "Major = pd.read_csv(\"Major.csv\")\n",
    "stu = pd.read_csv(\"Student.csv\")"
   ]
  },
  {
   "cell_type": "code",
   "execution_count": 16,
   "id": "fe7f20ac",
   "metadata": {},
   "outputs": [
    {
     "data": {
      "text/html": [
       "<div>\n",
       "<style scoped>\n",
       "    .dataframe tbody tr th:only-of-type {\n",
       "        vertical-align: middle;\n",
       "    }\n",
       "\n",
       "    .dataframe tbody tr th {\n",
       "        vertical-align: top;\n",
       "    }\n",
       "\n",
       "    .dataframe thead th {\n",
       "        text-align: right;\n",
       "    }\n",
       "</style>\n",
       "<table border=\"1\" class=\"dataframe\">\n",
       "  <thead>\n",
       "    <tr style=\"text-align: right;\">\n",
       "      <th></th>\n",
       "      <th>StudID</th>\n",
       "      <th>StudName</th>\n",
       "      <th>Major</th>\n",
       "    </tr>\n",
       "  </thead>\n",
       "  <tbody>\n",
       "    <tr>\n",
       "      <th>0</th>\n",
       "      <td>A1</td>\n",
       "      <td>Dani Magana</td>\n",
       "      <td>IST</td>\n",
       "    </tr>\n",
       "    <tr>\n",
       "      <th>1</th>\n",
       "      <td>A2</td>\n",
       "      <td>Kylie Duran</td>\n",
       "      <td>IST</td>\n",
       "    </tr>\n",
       "    <tr>\n",
       "      <th>2</th>\n",
       "      <td>A3</td>\n",
       "      <td>Blythe Richmond</td>\n",
       "      <td>CS</td>\n",
       "    </tr>\n",
       "    <tr>\n",
       "      <th>3</th>\n",
       "      <td>A4</td>\n",
       "      <td>Hadassah Bridges</td>\n",
       "      <td>CS</td>\n",
       "    </tr>\n",
       "    <tr>\n",
       "      <th>4</th>\n",
       "      <td>A5</td>\n",
       "      <td>Molly Lancaster</td>\n",
       "      <td>CS</td>\n",
       "    </tr>\n",
       "    <tr>\n",
       "      <th>5</th>\n",
       "      <td>A6</td>\n",
       "      <td>Wilma Velasquez</td>\n",
       "      <td>HIST</td>\n",
       "    </tr>\n",
       "    <tr>\n",
       "      <th>6</th>\n",
       "      <td>A7</td>\n",
       "      <td>Wilfred Donovan</td>\n",
       "      <td>HIST</td>\n",
       "    </tr>\n",
       "    <tr>\n",
       "      <th>7</th>\n",
       "      <td>A9</td>\n",
       "      <td>Ronnie Wilkes</td>\n",
       "      <td>POLS</td>\n",
       "    </tr>\n",
       "    <tr>\n",
       "      <th>8</th>\n",
       "      <td>A10</td>\n",
       "      <td>Aida Burgess</td>\n",
       "      <td>POLS</td>\n",
       "    </tr>\n",
       "    <tr>\n",
       "      <th>9</th>\n",
       "      <td>A11</td>\n",
       "      <td>Teagan Reyna</td>\n",
       "      <td>POLS</td>\n",
       "    </tr>\n",
       "  </tbody>\n",
       "</table>\n",
       "</div>"
      ],
      "text/plain": [
       "  StudID          StudName Major\n",
       "0     A1       Dani Magana   IST\n",
       "1     A2       Kylie Duran   IST\n",
       "2     A3   Blythe Richmond    CS\n",
       "3     A4  Hadassah Bridges    CS\n",
       "4     A5   Molly Lancaster    CS\n",
       "5     A6   Wilma Velasquez  HIST\n",
       "6     A7   Wilfred Donovan  HIST\n",
       "7     A9     Ronnie Wilkes  POLS\n",
       "8    A10      Aida Burgess  POLS\n",
       "9    A11      Teagan Reyna  POLS"
      ]
     },
     "execution_count": 16,
     "metadata": {},
     "output_type": "execute_result"
    }
   ],
   "source": [
    "stu\n"
   ]
  },
  {
   "cell_type": "code",
   "execution_count": 23,
   "id": "098c057c",
   "metadata": {},
   "outputs": [
    {
     "data": {
      "text/html": [
       "<div>\n",
       "<style scoped>\n",
       "    .dataframe tbody tr th:only-of-type {\n",
       "        vertical-align: middle;\n",
       "    }\n",
       "\n",
       "    .dataframe tbody tr th {\n",
       "        vertical-align: top;\n",
       "    }\n",
       "\n",
       "    .dataframe thead th {\n",
       "        text-align: right;\n",
       "    }\n",
       "</style>\n",
       "<table border=\"1\" class=\"dataframe\">\n",
       "  <thead>\n",
       "    <tr style=\"text-align: right;\">\n",
       "      <th></th>\n",
       "      <th>Major</th>\n",
       "      <th>Major Description</th>\n",
       "    </tr>\n",
       "  </thead>\n",
       "  <tbody>\n",
       "    <tr>\n",
       "      <th>0</th>\n",
       "      <td>CS</td>\n",
       "      <td>Computer Science</td>\n",
       "    </tr>\n",
       "    <tr>\n",
       "      <th>1</th>\n",
       "      <td>HIST</td>\n",
       "      <td>History</td>\n",
       "    </tr>\n",
       "    <tr>\n",
       "      <th>2</th>\n",
       "      <td>DS</td>\n",
       "      <td>Decision Science</td>\n",
       "    </tr>\n",
       "    <tr>\n",
       "      <th>3</th>\n",
       "      <td>ACCT</td>\n",
       "      <td>Accounting</td>\n",
       "    </tr>\n",
       "    <tr>\n",
       "      <th>5</th>\n",
       "      <td>POLS</td>\n",
       "      <td>Political Science</td>\n",
       "    </tr>\n",
       "    <tr>\n",
       "      <th>6</th>\n",
       "      <td>PSYC</td>\n",
       "      <td>Psychology</td>\n",
       "    </tr>\n",
       "    <tr>\n",
       "      <th>7</th>\n",
       "      <td>ENGR</td>\n",
       "      <td>Engineering</td>\n",
       "    </tr>\n",
       "    <tr>\n",
       "      <th>8</th>\n",
       "      <td>LAW</td>\n",
       "      <td>Law</td>\n",
       "    </tr>\n",
       "    <tr>\n",
       "      <th>9</th>\n",
       "      <td>IST</td>\n",
       "      <td>Information Systems &amp; Technology</td>\n",
       "    </tr>\n",
       "  </tbody>\n",
       "</table>\n",
       "</div>"
      ],
      "text/plain": [
       "  Major                 Major Description\n",
       "0    CS                  Computer Science\n",
       "1  HIST                           History\n",
       "2    DS                  Decision Science\n",
       "3  ACCT                        Accounting\n",
       "5  POLS                 Political Science\n",
       "6  PSYC                        Psychology\n",
       "7  ENGR                       Engineering\n",
       "8   LAW                               Law\n",
       "9   IST  Information Systems & Technology"
      ]
     },
     "execution_count": 23,
     "metadata": {},
     "output_type": "execute_result"
    }
   ],
   "source": [
    "Major_updated = Major.drop_duplicates()\n",
    "Major_updated"
   ]
  },
  {
   "cell_type": "code",
   "execution_count": 24,
   "id": "33bb5836",
   "metadata": {},
   "outputs": [
    {
     "data": {
      "text/html": [
       "<div>\n",
       "<style scoped>\n",
       "    .dataframe tbody tr th:only-of-type {\n",
       "        vertical-align: middle;\n",
       "    }\n",
       "\n",
       "    .dataframe tbody tr th {\n",
       "        vertical-align: top;\n",
       "    }\n",
       "\n",
       "    .dataframe thead th {\n",
       "        text-align: right;\n",
       "    }\n",
       "</style>\n",
       "<table border=\"1\" class=\"dataframe\">\n",
       "  <thead>\n",
       "    <tr style=\"text-align: right;\">\n",
       "      <th></th>\n",
       "      <th>StudID</th>\n",
       "      <th>StudName</th>\n",
       "      <th>Major</th>\n",
       "      <th>Major Description</th>\n",
       "    </tr>\n",
       "  </thead>\n",
       "  <tbody>\n",
       "    <tr>\n",
       "      <th>0</th>\n",
       "      <td>A1</td>\n",
       "      <td>Dani Magana</td>\n",
       "      <td>IST</td>\n",
       "      <td>Information Systems &amp; Technology</td>\n",
       "    </tr>\n",
       "    <tr>\n",
       "      <th>1</th>\n",
       "      <td>A2</td>\n",
       "      <td>Kylie Duran</td>\n",
       "      <td>IST</td>\n",
       "      <td>Information Systems &amp; Technology</td>\n",
       "    </tr>\n",
       "    <tr>\n",
       "      <th>2</th>\n",
       "      <td>A3</td>\n",
       "      <td>Blythe Richmond</td>\n",
       "      <td>CS</td>\n",
       "      <td>Computer Science</td>\n",
       "    </tr>\n",
       "    <tr>\n",
       "      <th>3</th>\n",
       "      <td>A4</td>\n",
       "      <td>Hadassah Bridges</td>\n",
       "      <td>CS</td>\n",
       "      <td>Computer Science</td>\n",
       "    </tr>\n",
       "    <tr>\n",
       "      <th>4</th>\n",
       "      <td>A5</td>\n",
       "      <td>Molly Lancaster</td>\n",
       "      <td>CS</td>\n",
       "      <td>Computer Science</td>\n",
       "    </tr>\n",
       "    <tr>\n",
       "      <th>5</th>\n",
       "      <td>A6</td>\n",
       "      <td>Wilma Velasquez</td>\n",
       "      <td>HIST</td>\n",
       "      <td>History</td>\n",
       "    </tr>\n",
       "    <tr>\n",
       "      <th>6</th>\n",
       "      <td>A7</td>\n",
       "      <td>Wilfred Donovan</td>\n",
       "      <td>HIST</td>\n",
       "      <td>History</td>\n",
       "    </tr>\n",
       "    <tr>\n",
       "      <th>7</th>\n",
       "      <td>A9</td>\n",
       "      <td>Ronnie Wilkes</td>\n",
       "      <td>POLS</td>\n",
       "      <td>Political Science</td>\n",
       "    </tr>\n",
       "    <tr>\n",
       "      <th>8</th>\n",
       "      <td>A10</td>\n",
       "      <td>Aida Burgess</td>\n",
       "      <td>POLS</td>\n",
       "      <td>Political Science</td>\n",
       "    </tr>\n",
       "    <tr>\n",
       "      <th>9</th>\n",
       "      <td>A11</td>\n",
       "      <td>Teagan Reyna</td>\n",
       "      <td>POLS</td>\n",
       "      <td>Political Science</td>\n",
       "    </tr>\n",
       "  </tbody>\n",
       "</table>\n",
       "</div>"
      ],
      "text/plain": [
       "  StudID          StudName Major                 Major Description\n",
       "0     A1       Dani Magana   IST  Information Systems & Technology\n",
       "1     A2       Kylie Duran   IST  Information Systems & Technology\n",
       "2     A3   Blythe Richmond    CS                  Computer Science\n",
       "3     A4  Hadassah Bridges    CS                  Computer Science\n",
       "4     A5   Molly Lancaster    CS                  Computer Science\n",
       "5     A6   Wilma Velasquez  HIST                           History\n",
       "6     A7   Wilfred Donovan  HIST                           History\n",
       "7     A9     Ronnie Wilkes  POLS                 Political Science\n",
       "8    A10      Aida Burgess  POLS                 Political Science\n",
       "9    A11      Teagan Reyna  POLS                 Political Science"
      ]
     },
     "execution_count": 24,
     "metadata": {},
     "output_type": "execute_result"
    }
   ],
   "source": [
    "stu_updated = pd.merge(stu, Major_updated, on = \"Major\")\n",
    "stu_updated"
   ]
  },
  {
   "cell_type": "markdown",
   "id": "42437019",
   "metadata": {},
   "source": [
    "+ Task_01: Create a histogram for random number with mu = 100, and sigma = 15\n",
    "    + Additional Insights "
   ]
  },
  {
   "cell_type": "code",
   "execution_count": 22,
   "id": "e89918b6",
   "metadata": {},
   "outputs": [
    {
     "data": {
      "image/png": "[encoded data removed]",
      "text/plain": [
       "<Figure size 432x288 with 1 Axes>"
      ]
     },
     "metadata": {
      "needs_background": "light"
     },
     "output_type": "display_data"
    }
   ],
   "source": [
    "import pandas as pd\n",
    "import numpy as np\n",
    "import matplotlib.pyplot as plt\n",
    "import seaborn as sns\n",
    "import warnings\n",
    "warnings.filterwarnings('ignore')\n",
    "%matplotlib inline \n",
    "mu, sigma = 100, 15\n",
    "x = mu + sigma * np.random.randn(10000)\n",
    "# the histogram of the data\n",
    "n, bins, patches = plt.hist(x, 50, density=True, color='r', alpha=0.75)\n",
    "plt.xlabel('Smarts')\n",
    "plt.ylabel('Probability')\n",
    "plt.title('Histogram of IQ')\n",
    "plt.text(60, .025, r'$\\mu=100,\\ \\sigma=15$')\n",
    "plt.axis([40, 150, 0, 0.03])\n",
    "plt.grid(True)"
   ]
  },
  {
   "cell_type": "code",
   "execution_count": null,
   "id": "80b77ac5",
   "metadata": {},
   "outputs": [],
   "source": [
    "\"\"\"\n",
    "+ n: is the number of counts in each bin of the histogram\n",
    "+ bins: is the left hand edge of each bin\n",
    "+ bins : integer or array_like, optional, default: 10\n",
    "+ patches is the individual patches used to create the histogram, e.g a collection of rectangles\n",
    "+ density=1/True: If True, draw and return a probability density: each bin will display the bin's raw count divided by the total number of counts and the bin width (density = counts / (sum(counts) * np.diff(bins))), so that the area under the histogram integrates to 1\n",
    "+ alpha=0.75: specify transparency levels for the fill color with alpha=0.75\n",
    "+ r means the string will be treated as raw string.\n",
    "\"\"\""
   ]
  },
  {
   "cell_type": "code",
   "execution_count": null,
   "id": "6eb0a981",
   "metadata": {},
   "outputs": [],
   "source": [
    "\"\"\"\n",
    "# the histogram of the data\n",
    "+ n, bins, patches = plt.hist(x, 50, density=True, color='r', alpha=0.75) \n",
    "# hist uses np.histogram under the hood to create 'n' and 'bins'.\n",
    "# np.histogram returns the bin edges, so there will be 50 probability\n",
    "# density values in n, 51 bin edges in bins and 50 patches. \n",
    "\"\"\""
   ]
  }
 ],
 "metadata": {
  "kernelspec": {
   "display_name": "Python 3",
   "language": "python",
   "name": "python3"
  },
  "language_info": {
   "codemirror_mode": {
    "name": "ipython",
    "version": 3
   },
   "file_extension": ".py",
   "mimetype": "text/x-python",
   "name": "python",
   "nbconvert_exporter": "python",
   "pygments_lexer": "ipython3",
   "version": "3.8.8"
  }
 },
 "nbformat": 4,
 "nbformat_minor": 5
}
