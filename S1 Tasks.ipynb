{
 "cells": [
  {
   "cell_type": "code",
   "execution_count": 1,
   "id": "1885170d",
   "metadata": {},
   "outputs": [
    {
     "data": {
      "text/plain": [
       "('Interstellar', 'Before Sunrise', 'Skyfall')"
      ]
     },
     "execution_count": 1,
     "metadata": {},
     "output_type": "execute_result"
    }
   ],
   "source": [
    "# Task 25: Create a list of your fav movies and Return the name of third, fourth, and fifth movies:\n",
    "\n",
    "myfavmov = ('Titanic', 'La La Land', 'Interstellar', 'Before Sunrise', 'Skyfall')\n",
    "\n",
    "myfavmov[2:5]\n"
   ]
  },
  {
   "cell_type": "markdown",
   "id": "ac6401a8",
   "metadata": {},
   "source": [
    "### Task for you post on discussion blog 01\n",
    "+ Practice Problem: Create two tuples: one for the recommneded shopping site for ' Labor Day sales' \n",
    "+ and another tuple suggesting 'Labor Day sales'\n",
    "+ combine both tuples "
   ]
  },
  {
   "cell_type": "code",
   "execution_count": 2,
   "id": "e4444225",
   "metadata": {},
   "outputs": [
    {
     "name": "stdout",
     "output_type": "stream",
     "text": [
      "('rei.com', 'costco.com', 'athleta.gap.com', 'Labor Day Clearance', 'Same-Day Delivery', 'Summer Send-Off')\n"
     ]
    }
   ],
   "source": [
    "myTuple1 = ('rei.com', 'costco.com', 'athleta.gap.com')\n",
    "myTuple2 = ('Labor Day Clearance', 'Same-Day Delivery', 'Summer Send-Off')\n",
    "\n",
    "combinedTuple = myTuple1 + myTuple2\n",
    "\n",
    "print(combinedTuple)"
   ]
  },
  {
   "cell_type": "markdown",
   "id": "8eba16e5",
   "metadata": {},
   "source": [
    "### Task for you post on discussion blog 01\n",
    "+ Practice Problem: create two sets\n",
    "+ set1 contains string type of data\n",
    "+ set 1 contains numeric type of data\n",
    "+ Explore the union, intersection and difference operations "
   ]
  },
  {
   "cell_type": "code",
   "execution_count": 3,
   "id": "81fd2bdd",
   "metadata": {},
   "outputs": [
    {
     "data": {
      "text/plain": [
       "{0, 1, 2, 'a', 'b', 'c'}"
      ]
     },
     "execution_count": 3,
     "metadata": {},
     "output_type": "execute_result"
    }
   ],
   "source": [
    "mySet1 = {'a', 'b', 'c'}\n",
    "mySet2 = {0, 1, 2}\n",
    "\n",
    "mySet1.union(mySet2)"
   ]
  },
  {
   "cell_type": "code",
   "execution_count": 4,
   "id": "5e70ff60",
   "metadata": {},
   "outputs": [
    {
     "data": {
      "text/plain": [
       "set()"
      ]
     },
     "execution_count": 4,
     "metadata": {},
     "output_type": "execute_result"
    }
   ],
   "source": [
    "mySet1.intersection(mySet2)"
   ]
  },
  {
   "cell_type": "code",
   "execution_count": 5,
   "id": "008a860a",
   "metadata": {},
   "outputs": [
    {
     "data": {
      "text/plain": [
       "{'a', 'b', 'c'}"
      ]
     },
     "execution_count": 5,
     "metadata": {},
     "output_type": "execute_result"
    }
   ],
   "source": [
    "mySet1.difference(mySet2)"
   ]
  },
  {
   "cell_type": "markdown",
   "id": "ec4b2fab",
   "metadata": {},
   "source": [
    "### Task for you post on discussion blog 01\n",
    "+ Practice Problem: Refer our DNSC 6303_10 syllabus and Print the grading scale using conditional statements."
   ]
  },
  {
   "cell_type": "code",
   "execution_count": 6,
   "id": "7bc9293a",
   "metadata": {},
   "outputs": [
    {
     "name": "stdout",
     "output_type": "stream",
     "text": [
      "What is your score? 100\n",
      "Your grade is  A\n"
     ]
    }
   ],
   "source": [
    "def gs(scores):\n",
    "    \n",
    "    if scores >= 96 and scores <= 100:\n",
    "        return 'A'\n",
    "    elif scores >= 91 and scores <= 95:\n",
    "        return 'A-'\n",
    "    elif scores >= 86 and scores <= 90:\n",
    "        return 'B+'\n",
    "    elif scores >= 81 and scores <= 85:\n",
    "        return 'B'\n",
    "    elif scores >= 76 and scores <= 80:\n",
    "        return 'B-'\n",
    "    elif scores >= 71 and scores <= 75:\n",
    "        return 'C+'\n",
    "    elif scores >= 66 and scores <= 70:\n",
    "        return 'C'\n",
    "    elif scores < 66:\n",
    "        return 'Fail'\n",
    "    \n",
    "\n",
    "user_input = int(input('What is your score? '))\n",
    "    \n",
    "print('Your grade is ', gs(user_input))"
   ]
  }
 ],
 "metadata": {
  "kernelspec": {
   "display_name": "Python 3",
   "language": "python",
   "name": "python3"
  },
  "language_info": {
   "codemirror_mode": {
    "name": "ipython",
    "version": 3
   },
   "file_extension": ".py",
   "mimetype": "text/x-python",
   "name": "python",
   "nbconvert_exporter": "python",
   "pygments_lexer": "ipython3",
   "version": "3.8.8"
  }
 },
 "nbformat": 4,
 "nbformat_minor": 5
}
