{
 "cells": [
  {
   "cell_type": "markdown",
   "id": "70919604",
   "metadata": {},
   "source": [
    "# Part A\n",
    "# Task 1"
   ]
  },
  {
   "cell_type": "code",
   "execution_count": 1,
   "id": "a37369b1",
   "metadata": {},
   "outputs": [
    {
     "name": "stdout",
     "output_type": "stream",
     "text": [
      "Chocolate Prices:  {'Twix': '4', 'Snickers': '6', 'MilkyWay': '2', 'm&m': '3', 'crunch': '5'}\n",
      "Monday\n",
      "Daily Chocolate Selection (Subtotal): Twix Snickers m&m m&m crunch\n",
      "Tuesday\n",
      "Daily Chocolate Selection (Subtotal): Snickers MilkyWay crunch crunch crunch\n",
      "Wednesday\n",
      "Daily Chocolate Selection (Subtotal): Twix Twix crunch m&m m&m\n",
      "Thursday\n",
      "Daily Chocolate Selection (Subtotal): Twix Snickers m&m m&m crunch\n",
      "Friday\n",
      "Daily Chocolate Selection (Subtotal): Snickers MilkyWay crunch crunch crunch\n",
      "Saturday\n",
      "Daily Chocolate Selection (Subtotal): Twix Snickers m&m m&m crunch\n",
      "Sunday\n",
      "Daily Chocolate Selection (Subtotal): MilkyWay crunch crunch m&m m&m\n",
      "Alex's weekly selection (Total):  {'Twix': 5, 'Snickers': 5, 'm&m': 10, 'crunch': 12, 'MilkyWay': 3}\n",
      "Weekly Invoice Amount Due: $ 146\n"
     ]
    }
   ],
   "source": [
    "# Alex eats chocolates every day\n",
    "days = ('Monday', 'Tuesday', 'Wednesday', 'Thursday', 'Friday', 'Saturday', 'Sunday')\n",
    "\n",
    "# Five chocolates with different prices\n",
    "prices = {'Twix': '4', 'Snickers': '6', 'MilkyWay': '2', 'm&m': '3', 'crunch': '5'}\n",
    "\n",
    "print('Chocolate Prices: ', prices)\n",
    "\n",
    "# Bills paid at the end of the week\n",
    "# For loop & If conditional used to build a user function to obtain weekly consumption\n",
    "\n",
    "counts = dict()\n",
    "\n",
    "for day in days:\n",
    "\n",
    "    print(day)\n",
    "    c = input(\"Daily Chocolate Selection (Subtotal): \")  \n",
    "\n",
    "    for word in c.split():\n",
    "        for item in word.split():\n",
    "            if item not in counts:\n",
    "                counts[item] = 1\n",
    "            else:\n",
    "                counts[item] = counts[item] + 1\n",
    "\n",
    "\n",
    "print(\"Alex's weekly selection (Total): \", counts)\n",
    "print(\"Weekly Invoice Amount Due: $\", sum(int(v)*int(prices[k]) for k,v in counts.items()))\n"
   ]
  },
  {
   "cell_type": "markdown",
   "id": "321fb13a",
   "metadata": {},
   "source": [
    "# Task 2"
   ]
  },
  {
   "cell_type": "code",
   "execution_count": 2,
   "id": "0527738e",
   "metadata": {},
   "outputs": [
    {
     "name": "stdout",
     "output_type": "stream",
     "text": [
      "[14, 21, 28, 42, 49, 56, 63, 77, 84, 91, 98]\n"
     ]
    }
   ],
   "source": [
    "# find all numbers that are divisible by 7 but not a multiple of 5\n",
    "# custom range: 10 - 100\n",
    "\n",
    "answer = []\n",
    "myRange = range(10, 101)\n",
    "for i in myRange:\n",
    "    if i % 7 == 0 and i % 5 !=0:\n",
    "        answer.append(i)\n",
    "    else:\n",
    "        continue\n",
    "        \n",
    "print(answer)"
   ]
  },
  {
   "cell_type": "markdown",
   "id": "215100e2",
   "metadata": {},
   "source": [
    "# Task 3"
   ]
  },
  {
   "cell_type": "code",
   "execution_count": 3,
   "id": "af1e1360",
   "metadata": {},
   "outputs": [
    {
     "name": "stdout",
     "output_type": "stream",
     "text": [
      "[[1, 2, 3, 4, 5], [2, 4, 6, 8, 10], [3, 6, 9, 12, 15], [4, 8, 12, 16, 20], [5, 10, 15, 20, 25]]\n"
     ]
    }
   ],
   "source": [
    "temp = [[i*j\n",
    "         for i in range(1,6)]\n",
    "            for j in range(1,6)]\n",
    "\n",
    "print(temp)"
   ]
  },
  {
   "cell_type": "markdown",
   "id": "9f4938b4",
   "metadata": {},
   "source": [
    "# Task 4"
   ]
  },
  {
   "cell_type": "code",
   "execution_count": 12,
   "id": "8e34ace0",
   "metadata": {},
   "outputs": [
    {
     "name": "stdout",
     "output_type": "stream",
     "text": [
      "Count H:  46 , Count T:  54\n",
      "\n",
      "Head has a probability of 0.46 and Tail has a probability of 0.54\n"
     ]
    }
   ],
   "source": [
    "import random\n",
    "\n",
    "# coin flips when n = 100\n",
    "\n",
    "coin_flip = ['Head','Tail']\n",
    "coin_dict_100 = {}\n",
    "for i in range(100):\n",
    "    rc = random.choice(coin_flip)\n",
    "    if rc not in coin_dict_100:\n",
    "        coin_dict_100[rc] = 1\n",
    "    else:\n",
    "        coin_dict_100[rc] = coin_dict_100[rc] + 1\n",
    "\n",
    "        \n",
    "print(\"Count H: \", coin_dict_100['Head'], \", Count T: \", coin_dict_100['Tail'])\n",
    "\n",
    "print(\"\\nHead has a probability of\", int(coin_dict_100['Head'])*0.01,\n",
    "     \"and Tail has a probability of\", int(coin_dict_100['Tail'])*0.01)"
   ]
  },
  {
   "cell_type": "code",
   "execution_count": 14,
   "id": "4562b1cc",
   "metadata": {},
   "outputs": [
    {
     "name": "stdout",
     "output_type": "stream",
     "text": [
      "Count H:  244 , Count T:  256\n",
      "\n",
      "Head has a probability of 0.488 and Tail has a probability of 0.512\n"
     ]
    }
   ],
   "source": [
    "# coin flips when n = 500\n",
    "\n",
    "coin_flip = ['Head','Tail']\n",
    "coin_dict_500 = {}\n",
    "for i in range(500):\n",
    "    rc = random.choice(coin_flip)\n",
    "    if rc not in coin_dict_500:\n",
    "        coin_dict_500[rc] = 1\n",
    "    else:\n",
    "        coin_dict_500[rc] = coin_dict_500[rc] + 1\n",
    "\n",
    "print(\"Count H: \", coin_dict_500['Head'], \", Count T: \", coin_dict_500['Tail'])\n",
    "\n",
    "print(\"\\nHead has a probability of\", int(coin_dict_500['Head'])*0.002,\n",
    "     \"and Tail has a probability of\", int(coin_dict_500['Tail'])*0.002)"
   ]
  },
  {
   "cell_type": "markdown",
   "id": "46e83042",
   "metadata": {},
   "source": [
    "# Task 5"
   ]
  },
  {
   "cell_type": "code",
   "execution_count": 16,
   "id": "09daba69",
   "metadata": {},
   "outputs": [
    {
     "name": "stdout",
     "output_type": "stream",
     "text": [
      "Enter a number from 1 through 20: 3\n",
      "1 2 3 \n",
      "4 5 6 \n",
      "7 8 9 \n"
     ]
    }
   ],
   "source": [
    "#display square of numbers\n",
    "\n",
    "n = int(input(\"Enter a number from 1 through 20: \"))\n",
    "\n",
    "lists = []\n",
    "  \n",
    "for i in range(n):\n",
    "    lists.append([])\n",
    "    for j in range(1,n+1):\n",
    "        lists[i].append(j+(i*n))\n",
    "        \n",
    "        \n",
    "\n",
    "for i in lists:\n",
    "    for j in i:\n",
    "        print(j, end=\" \")\n",
    "    print()\n",
    "               "
   ]
  },
  {
   "cell_type": "markdown",
   "id": "4d5868d6",
   "metadata": {},
   "source": [
    "# Task 6"
   ]
  },
  {
   "cell_type": "code",
   "execution_count": 17,
   "id": "e4601b27",
   "metadata": {},
   "outputs": [
    {
     "name": "stdout",
     "output_type": "stream",
     "text": [
      "Enter your password.snake\n",
      "2 attempt(s) left.\n",
      "Enter your password.ring\n",
      "1 attempt(s) left.\n",
      "Enter your password.Python\n",
      "Welcome to Python Programming.\n"
     ]
    }
   ],
   "source": [
    "# password program\n",
    "password = 'Python'\n",
    "count = 3\n",
    "\n",
    "#within 3 limits\n",
    "while count > 0:\n",
    "    x = input('Enter your password.')\n",
    "    if x != password:\n",
    "        count -= 1\n",
    "        print(f'{count} attempt(s) left.')\n",
    "        \n",
    "    else:\n",
    "        print('Welcome to Python Programming.')\n",
    "        break\n",
    "\n",
    "# limit exceeds\n",
    "if count == 0:        \n",
    "    print(\"You have crossed the limits of entering password.\")"
   ]
  },
  {
   "cell_type": "markdown",
   "id": "d355eccc",
   "metadata": {},
   "source": [
    "# Part B"
   ]
  },
  {
   "cell_type": "code",
   "execution_count": 18,
   "id": "1399e53b",
   "metadata": {},
   "outputs": [
    {
     "name": "stdout",
     "output_type": "stream",
     "text": [
      "Enter to roll your dices: \n",
      "dice 1:  1 , dice 2:  4 , the sum:  5\n",
      "5 became your point\n",
      "Enter to roll your dices: \n",
      "dice 1:  4 , dice 2:  4 , the sum:  8\n",
      "Enter to roll your dices: \n",
      "dice 1:  1 , dice 2:  5 , the sum:  6\n",
      "Enter to roll your dices: \n",
      "dice 1:  6 , dice 2:  4 , the sum:  10\n",
      "Enter to roll your dices: \n",
      "dice 1:  6 , dice 2:  4 , the sum:  10\n",
      "Enter to roll your dices: \n",
      "dice 1:  3 , dice 2:  6 , the sum:  9\n",
      "Enter to roll your dices: \n",
      "dice 1:  4 , dice 2:  5 , the sum:  9\n",
      "Enter to roll your dices: \n",
      "dice 1:  6 , dice 2:  1 , the sum:  7\n",
      "you lose\n"
     ]
    }
   ],
   "source": [
    "import random\n",
    "\n",
    "\n",
    "# user function to start the game & roll two dices\n",
    "def roll():\n",
    "   \n",
    "    _ = input(\"Enter to roll your dices: \")\n",
    "     \n",
    "    # select random numbers\n",
    "    d1 = random.randint(1, 6)\n",
    "    d2 = random.randint(1, 6)\n",
    "     \n",
    "    return (d1, d2) \n",
    " \n",
    "    \n",
    "# user function to get the sum\n",
    "def mysum(ds):\n",
    "    d1, d2 = ds\n",
    "    \n",
    "    print(\"dice 1: \", d1, \", dice 2: \", d2, \", the sum: \", sum(ds))\n",
    "\n",
    "\n",
    "# store the numbers\n",
    "v = roll()\n",
    "mysum(v)\n",
    "sum_of_dices = sum(v)\n",
    "\n",
    " \n",
    "# win if the sum is 7 or 11 on the first roll\n",
    "if sum_of_dices in (7, 11):\n",
    "    result = \"win\"\n",
    "\n",
    "# lose if the sum is 2, 3, 12 on the first roll\n",
    "elif sum_of_dices in (2, 3, 12):\n",
    "    result = \"lose\"\n",
    "\n",
    "# anything else: you get point (if the sum is 4, 5, 6, 8, 9, 10)\n",
    "else: \n",
    "    result = \"continue\"\n",
    "    point = sum_of_dices\n",
    "    print(point, \"became your point\")\n",
    " \n",
    " \n",
    "# continue until you make your point\n",
    "while result == \"continue\":\n",
    "    v = roll()\n",
    "    mysum(v)\n",
    "    sum_of_dices = sum(v)\n",
    "     \n",
    "    if sum_of_dices == point:\n",
    "        result = \"win\"\n",
    "         \n",
    "    elif sum_of_dices == 7:\n",
    "        result = \"lose\"\n",
    "\n",
    "        \n",
    "# produce results of the game\n",
    "if result == \"win\":\n",
    "    print(\"you win\")\n",
    "     \n",
    "else:\n",
    "    print(\"you lose\")"
   ]
  }
 ],
 "metadata": {
  "kernelspec": {
   "display_name": "Python 3",
   "language": "python",
   "name": "python3"
  },
  "language_info": {
   "codemirror_mode": {
    "name": "ipython",
    "version": 3
   },
   "file_extension": ".py",
   "mimetype": "text/x-python",
   "name": "python",
   "nbconvert_exporter": "python",
   "pygments_lexer": "ipython3",
   "version": "3.8.8"
  }
 },
 "nbformat": 4,
 "nbformat_minor": 5
}
