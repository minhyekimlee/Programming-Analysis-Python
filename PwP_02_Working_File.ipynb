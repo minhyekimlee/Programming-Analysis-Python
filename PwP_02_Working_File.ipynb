{
 "cells": [
  {
   "cell_type": "markdown",
   "metadata": {},
   "source": [
    "# Practice with Professor_S_02"
   ]
  },
  {
   "cell_type": "markdown",
   "metadata": {},
   "source": [
    "## Task 1: Convert the following while loop into for loop"
   ]
  },
  {
   "cell_type": "code",
   "execution_count": 1,
   "metadata": {},
   "outputs": [
    {
     "name": "stdout",
     "output_type": "stream",
     "text": [
      "0\n",
      "7\n",
      "21\n",
      "42\n",
      "70\n",
      "105\n",
      "147\n",
      "196\n"
     ]
    }
   ],
   "source": [
    "i=0\n",
    "s=0\n",
    "while i<=50:\n",
    "    if i%7==0:\n",
    "        s = s+i\n",
    "        i = i+7\n",
    "        print(s)"
   ]
  },
  {
   "cell_type": "code",
   "execution_count": 10,
   "metadata": {},
   "outputs": [
    {
     "name": "stdout",
     "output_type": "stream",
     "text": [
      "0\n",
      "7\n",
      "21\n",
      "42\n",
      "70\n",
      "105\n",
      "147\n",
      "196\n"
     ]
    }
   ],
   "source": [
    "s = 0\n",
    "for x in range(0,50,7):\n",
    "    if x % 7 == 0:\n",
    "        s = s + x\n",
    "        print(s)    "
   ]
  },
  {
   "cell_type": "markdown",
   "metadata": {},
   "source": [
    "## Task 2: Write a program that asks for input n and prints a sequence of powers of 5 from 5^0 to 5^n in separate lines.\n",
    "### Note: The input number n should be positive.\n",
    "#### Example:\n",
    "+ Input: N=4\n",
    "+ Output: 1\n",
    "+ 5\n",
    "+ 25\n",
    "+ 125\n",
    "+ 625"
   ]
  },
  {
   "cell_type": "code",
   "execution_count": 13,
   "metadata": {},
   "outputs": [
    {
     "name": "stdout",
     "output_type": "stream",
     "text": [
      "25\n"
     ]
    }
   ],
   "source": [
    "# power operator: **\n",
    "a = 5**2\n",
    "print(a)"
   ]
  },
  {
   "cell_type": "code",
   "execution_count": 32,
   "metadata": {},
   "outputs": [
    {
     "name": "stdout",
     "output_type": "stream",
     "text": [
      "provide a number: -2\n"
     ]
    }
   ],
   "source": [
    "n = int(input(\"provide a number: \"))\n",
    "\n",
    "for i in range(n+1):\n",
    "    print(5 ** i) \n",
    "\n"
   ]
  },
  {
   "cell_type": "code",
   "execution_count": 19,
   "metadata": {},
   "outputs": [
    {
     "name": "stdout",
     "output_type": "stream",
     "text": [
      "0\n",
      "1\n",
      "2\n",
      "3\n",
      "4\n"
     ]
    }
   ],
   "source": [
    "b = range(5)\n",
    "for i in b:\n",
    "    print(i)"
   ]
  },
  {
   "cell_type": "markdown",
   "metadata": {},
   "source": [
    "## Task 3: Consider a college cricket club in which a student can enroll only if he/she is less than 18 and greater than 15 years old. Write a program using the not operator."
   ]
  },
  {
   "cell_type": "code",
   "execution_count": 27,
   "metadata": {},
   "outputs": [
    {
     "name": "stdout",
     "output_type": "stream",
     "text": [
      "age: 14\n",
      "You are not eligible\n"
     ]
    }
   ],
   "source": [
    "age = int(input(\"age: \"))\n",
    "# enroll when 15 < age < 18\n",
    "\n",
    "if not age < 15 and not age > 18:\n",
    "    print(\"You are eligible to play in college cricket team.\")\n",
    "else:\n",
    "    print(\"You are not eligible\")"
   ]
  },
  {
   "cell_type": "code",
   "execution_count": 31,
   "metadata": {},
   "outputs": [
    {
     "name": "stdout",
     "output_type": "stream",
     "text": [
      "age: 17\n",
      "You are eligible to play in college cricket team.\n"
     ]
    }
   ],
   "source": [
    "age = int(input(\"age: \"))\n",
    "# enroll when 15 < age < 18\n",
    "\n",
    "if age > 15 and age < 18:\n",
    "    print(\"You are eligible to play in college cricket team.\")\n",
    "else:\n",
    "    print(\"You are not eligible\")"
   ]
  },
  {
   "cell_type": "markdown",
   "metadata": {},
   "source": [
    "## Task 4: Read the cities.txt and return the line if the us city name start with a specific letter for example 'B'"
   ]
  },
  {
   "cell_type": "code",
   "execution_count": 38,
   "metadata": {},
   "outputs": [
    {
     "name": "stdout",
     "output_type": "stream",
     "text": [
      "&Chicago&Houston&\n",
      "&Texas&California&Illinois&\n",
      "&Boston&Seattle&Mesa&\n"
     ]
    }
   ],
   "source": [
    "fpl = open(\"cities.txt\", 'r')\n",
    "name = fpl.read()\n",
    "print(name)"
   ]
  },
  {
   "cell_type": "code",
   "execution_count": 42,
   "metadata": {},
   "outputs": [
    {
     "name": "stdout",
     "output_type": "stream",
     "text": [
      "Texas&California&Illinois\n"
     ]
    }
   ],
   "source": [
    "fpl2 = open(\"cities.txt\", 'r')\n",
    "name2 = fpl2.readline().strip('&\\n')\n",
    "while name2:\n",
    "    if name2.startswith(\"T\"):\n",
    "        print(name2)\n",
    "    else:\n",
    "        pass\n",
    "    name2 = fpl2.readline().strip('&\\n')\n"
   ]
  },
  {
   "cell_type": "markdown",
   "metadata": {},
   "source": [
    "## Task 5: Use enumerate function in rainbow color task from session\n",
    "### 'red', 'orange', 'yellow', 'green', 'blue', 'indigo', 'violet'"
   ]
  },
  {
   "cell_type": "code",
   "execution_count": 46,
   "metadata": {},
   "outputs": [
    {
     "name": "stdout",
     "output_type": "stream",
     "text": [
      "1 red\n",
      "2 orange\n",
      "3 yellow\n",
      "4 green\n",
      "5 blue\n",
      "6 indigo\n",
      "7 violet\n"
     ]
    }
   ],
   "source": [
    "rainbow = ['red', 'orange', 'yellow', 'green', 'blue', 'indigo', 'violet']\n",
    "\n",
    "for i, j in enumerate(rainbow, 1):\n",
    "    print(i, j)"
   ]
  },
  {
   "cell_type": "code",
   "execution_count": null,
   "metadata": {},
   "outputs": [],
   "source": []
  }
 ],
 "metadata": {
  "kernelspec": {
   "display_name": "Python 3 (ipykernel)",
   "language": "python",
   "name": "python3"
  },
  "language_info": {
   "codemirror_mode": {
    "name": "ipython",
    "version": 3
   },
   "file_extension": ".py",
   "mimetype": "text/x-python",
   "name": "python",
   "nbconvert_exporter": "python",
   "pygments_lexer": "ipython3",
   "version": "3.9.6"
  }
 },
 "nbformat": 4,
 "nbformat_minor": 4
}
