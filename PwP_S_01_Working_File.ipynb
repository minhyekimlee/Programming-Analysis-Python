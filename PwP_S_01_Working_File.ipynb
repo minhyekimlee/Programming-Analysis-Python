{
 "cells": [
  {
   "cell_type": "markdown",
   "metadata": {},
   "source": [
    "# Practice with Professor_S_01"
   ]
  },
  {
   "cell_type": "code",
   "execution_count": null,
   "metadata": {},
   "outputs": [],
   "source": [
    "# Task 1: Write a program to display the statement given below in two different lines.\n",
    "## “I am using Python” and “It’s my First Assignment”"
   ]
  },
  {
   "cell_type": "code",
   "execution_count": null,
   "metadata": {},
   "outputs": [],
   "source": [
    "# Task 2: Write a program to read and store the name of three different cities in three different variables and \n",
    "# print all the contents of variables on the console."
   ]
  },
  {
   "cell_type": "code",
   "execution_count": null,
   "metadata": {},
   "outputs": [],
   "source": [
    "# Task 3: Write a program to read the radius of a circle and print the area of the circle."
   ]
  },
  {
   "cell_type": "code",
   "execution_count": null,
   "metadata": {},
   "outputs": [],
   "source": [
    "# Task 4: Repeat task 3 by creating user defined function"
   ]
  },
  {
   "cell_type": "code",
   "execution_count": null,
   "metadata": {},
   "outputs": [],
   "source": [
    "# Task 5: Write the function countB(word) which takes a word as the argument and returns the number of ‘i’ in that word.\n",
    "## word: pneumonoultramicroscopicsilicovolcanoconiosis"
   ]
  },
  {
   "cell_type": "code",
   "execution_count": null,
   "metadata": {},
   "outputs": [],
   "source": [
    "# Task 5:Write the function startEndVowels(word) which returns True if the word starts and ends with vowels.\n",
    "## word: pneumonoultramicroscopicsilicovolcanoconiosis"
   ]
  },
  {
   "cell_type": "code",
   "execution_count": null,
   "metadata": {},
   "outputs": [],
   "source": [
    "# Task 6:Write the function getVowels(word) which takes a word as an argument and returns the vowels (‘a’, ‘e’, ‘i’, ‘o’, ‘u’) in that word."
   ]
  },
  {
   "cell_type": "code",
   "execution_count": null,
   "metadata": {},
   "outputs": [],
   "source": [
    "# Task 7: Async_Material_Folder_01 \n",
    "## Explore inbuilt function find() and rfind()\n",
    "s1 = \"Programming for Analytics\"\n",
    "print (s1)"
   ]
  },
  {
   "cell_type": "code",
   "execution_count": null,
   "metadata": {},
   "outputs": [],
   "source": [
    "print (s1.find('i'))"
   ]
  },
  {
   "cell_type": "code",
   "execution_count": null,
   "metadata": {},
   "outputs": [],
   "source": [
    "print (s1.rfind('i'))"
   ]
  },
  {
   "cell_type": "markdown",
   "metadata": {},
   "source": [
    "+ rfind() method finds the last occurrence of the specified value. returns -1 if the value is not found.\n",
    "+ find() method finds the first occurrence of the specified value. returns -1 if the value is not found. "
   ]
  },
  {
   "cell_type": "code",
   "execution_count": null,
   "metadata": {},
   "outputs": [],
   "source": [
    "# Task 8: Async_Material_Folder_01 \n",
    "## Explore inbuilt function index() and rfindex)"
   ]
  },
  {
   "cell_type": "markdown",
   "metadata": {},
   "source": [
    "+ rindex() method finds the last occurrence of the specified value. method raises an exception if the value is not found.\n",
    "+ index() method returns the position at the first occurrence of the specified value. "
   ]
  },
  {
   "cell_type": "code",
   "execution_count": null,
   "metadata": {},
   "outputs": [],
   "source": [
    "s2 = \"Programming for Analytics\"\n",
    "print (s1)"
   ]
  },
  {
   "cell_type": "code",
   "execution_count": null,
   "metadata": {},
   "outputs": [],
   "source": [
    "print (s2[s2.index('a'):s2.rindex('a')])"
   ]
  },
  {
   "cell_type": "code",
   "execution_count": null,
   "metadata": {},
   "outputs": [],
   "source": [
    "# Task 9:Create a tuple for the seven color of rainbow:\n",
    "## 'red', 'orange', 'yellow', 'green', 'blue', 'indigo', 'violet'\n"
   ]
  },
  {
   "cell_type": "code",
   "execution_count": null,
   "metadata": {},
   "outputs": [],
   "source": [
    "# Task 10:Write a function Count_Each_vowel which accepts string from a user. \n",
    "## The function should return a dictionary which contains the count of each vowel."
   ]
  }
 ],
 "metadata": {
  "kernelspec": {
   "display_name": "Python 3",
   "language": "python",
   "name": "python3"
  },
  "language_info": {
   "codemirror_mode": {
    "name": "ipython",
    "version": 3
   },
   "file_extension": ".py",
   "mimetype": "text/x-python",
   "name": "python",
   "nbconvert_exporter": "python",
   "pygments_lexer": "ipython3",
   "version": "3.8.8"
  }
 },
 "nbformat": 4,
 "nbformat_minor": 4
}
